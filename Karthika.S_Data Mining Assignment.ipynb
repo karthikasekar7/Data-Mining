{
 "cells": [
  {
   "cell_type": "markdown",
   "metadata": {},
   "source": [
    "# Problem 1:\n",
    "<b> A leading bank wants to develop a customer segmentation to give promotional offers to its customers. They collected a sample that summarizes the activities of users during the past few months. You are given the task to identify the segments based on credit card usage.</b>"
   ]
  },
  {
   "cell_type": "code",
   "execution_count": 1,
   "metadata": {},
   "outputs": [],
   "source": [
    "from matplotlib import pyplot as plt\n",
    "import numpy as np\n",
    "import pandas as pd\n",
    "import seaborn as sns"
   ]
  },
  {
   "cell_type": "markdown",
   "metadata": {},
   "source": [
    "<b> 1.1 Read the data and do exploratory data analysis. Describe the data briefly.</b>"
   ]
  },
  {
   "cell_type": "code",
   "execution_count": 2,
   "metadata": {},
   "outputs": [],
   "source": [
    "df= pd.read_csv(\"bank_marketing_part1_Data.csv\")"
   ]
  },
  {
   "cell_type": "code",
   "execution_count": 3,
   "metadata": {},
   "outputs": [
    {
     "data": {
      "text/html": [
       "<div>\n",
       "<style scoped>\n",
       "    .dataframe tbody tr th:only-of-type {\n",
       "        vertical-align: middle;\n",
       "    }\n",
       "\n",
       "    .dataframe tbody tr th {\n",
       "        vertical-align: top;\n",
       "    }\n",
       "\n",
       "    .dataframe thead th {\n",
       "        text-align: right;\n",
       "    }\n",
       "</style>\n",
       "<table border=\"1\" class=\"dataframe\">\n",
       "  <thead>\n",
       "    <tr style=\"text-align: right;\">\n",
       "      <th></th>\n",
       "      <th>spending</th>\n",
       "      <th>advance_payments</th>\n",
       "      <th>probability_of_full_payment</th>\n",
       "      <th>current_balance</th>\n",
       "      <th>credit_limit</th>\n",
       "      <th>min_payment_amt</th>\n",
       "      <th>max_spent_in_single_shopping</th>\n",
       "    </tr>\n",
       "  </thead>\n",
       "  <tbody>\n",
       "    <tr>\n",
       "      <th>0</th>\n",
       "      <td>19.94</td>\n",
       "      <td>16.92</td>\n",
       "      <td>0.8752</td>\n",
       "      <td>6.675</td>\n",
       "      <td>3.763</td>\n",
       "      <td>3.252</td>\n",
       "      <td>6.550</td>\n",
       "    </tr>\n",
       "    <tr>\n",
       "      <th>1</th>\n",
       "      <td>15.99</td>\n",
       "      <td>14.89</td>\n",
       "      <td>0.9064</td>\n",
       "      <td>5.363</td>\n",
       "      <td>3.582</td>\n",
       "      <td>3.336</td>\n",
       "      <td>5.144</td>\n",
       "    </tr>\n",
       "    <tr>\n",
       "      <th>2</th>\n",
       "      <td>18.95</td>\n",
       "      <td>16.42</td>\n",
       "      <td>0.8829</td>\n",
       "      <td>6.248</td>\n",
       "      <td>3.755</td>\n",
       "      <td>3.368</td>\n",
       "      <td>6.148</td>\n",
       "    </tr>\n",
       "    <tr>\n",
       "      <th>3</th>\n",
       "      <td>10.83</td>\n",
       "      <td>12.96</td>\n",
       "      <td>0.8099</td>\n",
       "      <td>5.278</td>\n",
       "      <td>2.641</td>\n",
       "      <td>5.182</td>\n",
       "      <td>5.185</td>\n",
       "    </tr>\n",
       "    <tr>\n",
       "      <th>4</th>\n",
       "      <td>17.99</td>\n",
       "      <td>15.86</td>\n",
       "      <td>0.8992</td>\n",
       "      <td>5.890</td>\n",
       "      <td>3.694</td>\n",
       "      <td>2.068</td>\n",
       "      <td>5.837</td>\n",
       "    </tr>\n",
       "  </tbody>\n",
       "</table>\n",
       "</div>"
      ],
      "text/plain": [
       "   spending  advance_payments  probability_of_full_payment  current_balance  \\\n",
       "0     19.94             16.92                       0.8752            6.675   \n",
       "1     15.99             14.89                       0.9064            5.363   \n",
       "2     18.95             16.42                       0.8829            6.248   \n",
       "3     10.83             12.96                       0.8099            5.278   \n",
       "4     17.99             15.86                       0.8992            5.890   \n",
       "\n",
       "   credit_limit  min_payment_amt  max_spent_in_single_shopping  \n",
       "0         3.763            3.252                         6.550  \n",
       "1         3.582            3.336                         5.144  \n",
       "2         3.755            3.368                         6.148  \n",
       "3         2.641            5.182                         5.185  \n",
       "4         3.694            2.068                         5.837  "
      ]
     },
     "execution_count": 3,
     "metadata": {},
     "output_type": "execute_result"
    }
   ],
   "source": [
    "df.head()"
   ]
  },
  {
   "cell_type": "code",
   "execution_count": 4,
   "metadata": {},
   "outputs": [
    {
     "name": "stdout",
     "output_type": "stream",
     "text": [
      "<class 'pandas.core.frame.DataFrame'>\n",
      "RangeIndex: 210 entries, 0 to 209\n",
      "Data columns (total 7 columns):\n",
      " #   Column                        Non-Null Count  Dtype  \n",
      "---  ------                        --------------  -----  \n",
      " 0   spending                      210 non-null    float64\n",
      " 1   advance_payments              210 non-null    float64\n",
      " 2   probability_of_full_payment   210 non-null    float64\n",
      " 3   current_balance               210 non-null    float64\n",
      " 4   credit_limit                  210 non-null    float64\n",
      " 5   min_payment_amt               210 non-null    float64\n",
      " 6   max_spent_in_single_shopping  210 non-null    float64\n",
      "dtypes: float64(7)\n",
      "memory usage: 11.6 KB\n"
     ]
    }
   ],
   "source": [
    "df.info()"
   ]
  },
  {
   "cell_type": "code",
   "execution_count": 5,
   "metadata": {},
   "outputs": [
    {
     "data": {
      "text/plain": [
       "spending                        0\n",
       "advance_payments                0\n",
       "probability_of_full_payment     0\n",
       "current_balance                 0\n",
       "credit_limit                    0\n",
       "min_payment_amt                 0\n",
       "max_spent_in_single_shopping    0\n",
       "dtype: int64"
      ]
     },
     "execution_count": 5,
     "metadata": {},
     "output_type": "execute_result"
    }
   ],
   "source": [
    "df.isnull().sum()"
   ]
  },
  {
   "cell_type": "code",
   "execution_count": 6,
   "metadata": {},
   "outputs": [
    {
     "data": {
      "text/plain": [
       "(210, 7)"
      ]
     },
     "execution_count": 6,
     "metadata": {},
     "output_type": "execute_result"
    }
   ],
   "source": [
    "df.shape"
   ]
  },
  {
   "cell_type": "code",
   "execution_count": 7,
   "metadata": {},
   "outputs": [
    {
     "data": {
      "text/plain": [
       "0"
      ]
     },
     "execution_count": 7,
     "metadata": {},
     "output_type": "execute_result"
    }
   ],
   "source": [
    "df.duplicated().sum()"
   ]
  },
  {
   "cell_type": "code",
   "execution_count": 8,
   "metadata": {},
   "outputs": [
    {
     "data": {
      "text/html": [
       "<div>\n",
       "<style scoped>\n",
       "    .dataframe tbody tr th:only-of-type {\n",
       "        vertical-align: middle;\n",
       "    }\n",
       "\n",
       "    .dataframe tbody tr th {\n",
       "        vertical-align: top;\n",
       "    }\n",
       "\n",
       "    .dataframe thead th {\n",
       "        text-align: right;\n",
       "    }\n",
       "</style>\n",
       "<table border=\"1\" class=\"dataframe\">\n",
       "  <thead>\n",
       "    <tr style=\"text-align: right;\">\n",
       "      <th></th>\n",
       "      <th>spending</th>\n",
       "      <th>advance_payments</th>\n",
       "      <th>probability_of_full_payment</th>\n",
       "      <th>current_balance</th>\n",
       "      <th>credit_limit</th>\n",
       "      <th>min_payment_amt</th>\n",
       "      <th>max_spent_in_single_shopping</th>\n",
       "    </tr>\n",
       "  </thead>\n",
       "  <tbody>\n",
       "    <tr>\n",
       "      <th>count</th>\n",
       "      <td>210.000000</td>\n",
       "      <td>210.000000</td>\n",
       "      <td>210.000000</td>\n",
       "      <td>210.000000</td>\n",
       "      <td>210.000000</td>\n",
       "      <td>210.000000</td>\n",
       "      <td>210.000000</td>\n",
       "    </tr>\n",
       "    <tr>\n",
       "      <th>mean</th>\n",
       "      <td>14.847524</td>\n",
       "      <td>14.559286</td>\n",
       "      <td>0.870999</td>\n",
       "      <td>5.628533</td>\n",
       "      <td>3.258605</td>\n",
       "      <td>3.700201</td>\n",
       "      <td>5.408071</td>\n",
       "    </tr>\n",
       "    <tr>\n",
       "      <th>std</th>\n",
       "      <td>2.909699</td>\n",
       "      <td>1.305959</td>\n",
       "      <td>0.023629</td>\n",
       "      <td>0.443063</td>\n",
       "      <td>0.377714</td>\n",
       "      <td>1.503557</td>\n",
       "      <td>0.491480</td>\n",
       "    </tr>\n",
       "    <tr>\n",
       "      <th>min</th>\n",
       "      <td>10.590000</td>\n",
       "      <td>12.410000</td>\n",
       "      <td>0.808100</td>\n",
       "      <td>4.899000</td>\n",
       "      <td>2.630000</td>\n",
       "      <td>0.765100</td>\n",
       "      <td>4.519000</td>\n",
       "    </tr>\n",
       "    <tr>\n",
       "      <th>25%</th>\n",
       "      <td>12.270000</td>\n",
       "      <td>13.450000</td>\n",
       "      <td>0.856900</td>\n",
       "      <td>5.262250</td>\n",
       "      <td>2.944000</td>\n",
       "      <td>2.561500</td>\n",
       "      <td>5.045000</td>\n",
       "    </tr>\n",
       "    <tr>\n",
       "      <th>50%</th>\n",
       "      <td>14.355000</td>\n",
       "      <td>14.320000</td>\n",
       "      <td>0.873450</td>\n",
       "      <td>5.523500</td>\n",
       "      <td>3.237000</td>\n",
       "      <td>3.599000</td>\n",
       "      <td>5.223000</td>\n",
       "    </tr>\n",
       "    <tr>\n",
       "      <th>75%</th>\n",
       "      <td>17.305000</td>\n",
       "      <td>15.715000</td>\n",
       "      <td>0.887775</td>\n",
       "      <td>5.979750</td>\n",
       "      <td>3.561750</td>\n",
       "      <td>4.768750</td>\n",
       "      <td>5.877000</td>\n",
       "    </tr>\n",
       "    <tr>\n",
       "      <th>max</th>\n",
       "      <td>21.180000</td>\n",
       "      <td>17.250000</td>\n",
       "      <td>0.918300</td>\n",
       "      <td>6.675000</td>\n",
       "      <td>4.033000</td>\n",
       "      <td>8.456000</td>\n",
       "      <td>6.550000</td>\n",
       "    </tr>\n",
       "  </tbody>\n",
       "</table>\n",
       "</div>"
      ],
      "text/plain": [
       "         spending  advance_payments  probability_of_full_payment  \\\n",
       "count  210.000000        210.000000                   210.000000   \n",
       "mean    14.847524         14.559286                     0.870999   \n",
       "std      2.909699          1.305959                     0.023629   \n",
       "min     10.590000         12.410000                     0.808100   \n",
       "25%     12.270000         13.450000                     0.856900   \n",
       "50%     14.355000         14.320000                     0.873450   \n",
       "75%     17.305000         15.715000                     0.887775   \n",
       "max     21.180000         17.250000                     0.918300   \n",
       "\n",
       "       current_balance  credit_limit  min_payment_amt  \\\n",
       "count       210.000000    210.000000       210.000000   \n",
       "mean          5.628533      3.258605         3.700201   \n",
       "std           0.443063      0.377714         1.503557   \n",
       "min           4.899000      2.630000         0.765100   \n",
       "25%           5.262250      2.944000         2.561500   \n",
       "50%           5.523500      3.237000         3.599000   \n",
       "75%           5.979750      3.561750         4.768750   \n",
       "max           6.675000      4.033000         8.456000   \n",
       "\n",
       "       max_spent_in_single_shopping  \n",
       "count                    210.000000  \n",
       "mean                       5.408071  \n",
       "std                        0.491480  \n",
       "min                        4.519000  \n",
       "25%                        5.045000  \n",
       "50%                        5.223000  \n",
       "75%                        5.877000  \n",
       "max                        6.550000  "
      ]
     },
     "execution_count": 8,
     "metadata": {},
     "output_type": "execute_result"
    }
   ],
   "source": [
    "df.describe()"
   ]
  },
  {
   "cell_type": "code",
   "execution_count": 9,
   "metadata": {},
   "outputs": [
    {
     "data": {
      "image/png": "[encoded data removed]",
      "text/plain": [
       "<Figure size 1440x720 with 1 Axes>"
      ]
     },
     "metadata": {
      "needs_background": "light"
     },
     "output_type": "display_data"
    }
   ],
   "source": [
    "plt.figure(figsize=(20,10))\n",
    "df[['spending','advance_payments','probability_of_full_payment','current_balance','credit_limit','min_payment_amt','max_spent_in_single_shopping']].boxplot()\n",
    "plt.show()"
   ]
  },
  {
   "cell_type": "code",
   "execution_count": 10,
   "metadata": {},
   "outputs": [
    {
     "data": {
      "text/plain": [
       "spending                        5.035000\n",
       "advance_payments                2.265000\n",
       "probability_of_full_payment     0.030875\n",
       "current_balance                 0.717500\n",
       "credit_limit                    0.617750\n",
       "min_payment_amt                 2.207250\n",
       "max_spent_in_single_shopping    0.832000\n",
       "dtype: float64"
      ]
     },
     "execution_count": 10,
     "metadata": {},
     "output_type": "execute_result"
    }
   ],
   "source": [
    "Q1 = df.quantile(0.25)\n",
    "Q3 = df.quantile(0.75)\n",
    "iqr = Q3-Q1\n",
    "iqr"
   ]
  },
  {
   "cell_type": "code",
   "execution_count": 11,
   "metadata": {},
   "outputs": [
    {
     "name": "stdout",
     "output_type": "stream",
     "text": [
      "The below list shows the number of outliers present in each columns:\n"
     ]
    },
    {
     "data": {
      "text/plain": [
       "spending                        0\n",
       "advance_payments                0\n",
       "probability_of_full_payment     3\n",
       "current_balance                 0\n",
       "credit_limit                    0\n",
       "min_payment_amt                 2\n",
       "max_spent_in_single_shopping    0\n",
       "dtype: int64"
      ]
     },
     "execution_count": 11,
     "metadata": {},
     "output_type": "execute_result"
    }
   ],
   "source": [
    "outliers = (df<(Q1-1.5*iqr))|(df>(Q3+1.5*iqr))\n",
    "print('The below list shows the number of outliers present in each columns:')\n",
    "outliers.sum()"
   ]
  },
  {
   "cell_type": "markdown",
   "metadata": {},
   "source": [
    "<b>1.2  Do you think scaling is necessary for clustering in this case? Justify</b>"
   ]
  },
  {
   "cell_type": "markdown",
   "metadata": {},
   "source": [
    "Scaling is necessary for clustering. Though most of the columns in this case are amount/money, the units are different i.e few are in 1000s, 10000s and 100s and the column \"probability_of_full_payment\" is probablity, so it is better we scale it to obtain proper clusters. Since clustering technique uses the distances between two data points, it is necessary that we standardize the columns to form distinct clusters."
   ]
  },
  {
   "cell_type": "markdown",
   "metadata": {},
   "source": [
    "<b>1.3 Apply hierarchical clustering to scaled data. Identify the number of optimum clusters using Dendrogram and briefly describe them</b>"
   ]
  },
  {
   "cell_type": "code",
   "execution_count": 12,
   "metadata": {},
   "outputs": [],
   "source": [
    "from sklearn.preprocessing import StandardScaler"
   ]
  },
  {
   "cell_type": "code",
   "execution_count": 13,
   "metadata": {},
   "outputs": [],
   "source": [
    "X = StandardScaler()"
   ]
  },
  {
   "cell_type": "code",
   "execution_count": 14,
   "metadata": {},
   "outputs": [
    {
     "data": {
      "text/plain": [
       "array([[ 1.75435461,  1.81196782,  0.17822987, ...,  1.33857863,\n",
       "        -0.29880602,  2.3289982 ],\n",
       "       [ 0.39358228,  0.25383997,  1.501773  , ...,  0.85823561,\n",
       "        -0.24280501, -0.53858174],\n",
       "       [ 1.41330028,  1.42819249,  0.50487353, ...,  1.317348  ,\n",
       "        -0.22147129,  1.50910692],\n",
       "       ...,\n",
       "       [-0.2816364 , -0.30647202,  0.36488339, ..., -0.15287318,\n",
       "        -1.3221578 , -0.83023461],\n",
       "       [ 0.43836719,  0.33827054,  1.23027698, ...,  0.60081421,\n",
       "        -0.95348449,  0.07123789],\n",
       "       [ 0.24889256,  0.45340314, -0.77624835, ..., -0.07325831,\n",
       "        -0.70681338,  0.96047321]])"
      ]
     },
     "execution_count": 14,
     "metadata": {},
     "output_type": "execute_result"
    }
   ],
   "source": [
    "scaled_df = X.fit_transform(df)\n",
    "scaled_df"
   ]
  },
  {
   "cell_type": "code",
   "execution_count": 15,
   "metadata": {},
   "outputs": [],
   "source": [
    "from scipy.cluster.hierarchy import dendrogram, linkage"
   ]
  },
  {
   "cell_type": "code",
   "execution_count": 16,
   "metadata": {},
   "outputs": [],
   "source": [
    "wardlink = linkage(scaled_df, method = 'ward')"
   ]
  },
  {
   "cell_type": "code",
   "execution_count": 17,
   "metadata": {},
   "outputs": [
    {
     "data": {
      "image/png": "[encoded data removed]",
      "text/plain": [
       "<Figure size 432x288 with 1 Axes>"
      ]
     },
     "metadata": {
      "needs_background": "light"
     },
     "output_type": "display_data"
    }
   ],
   "source": [
    "dend = dendrogram(wardlink)"
   ]
  },
  {
   "cell_type": "code",
   "execution_count": 18,
   "metadata": {},
   "outputs": [
    {
     "data": {
      "image/png": "[encoded data removed]",
      "text/plain": [
       "<Figure size 432x288 with 1 Axes>"
      ]
     },
     "metadata": {
      "needs_background": "light"
     },
     "output_type": "display_data"
    }
   ],
   "source": [
    "dend = dendrogram(wardlink,\n",
    "                 truncate_mode='lastp',\n",
    "                 p = 10,\n",
    "                 )"
   ]
  },
  {
   "cell_type": "code",
   "execution_count": 19,
   "metadata": {},
   "outputs": [],
   "source": [
    "from scipy.cluster.hierarchy import fcluster"
   ]
  },
  {
   "cell_type": "code",
   "execution_count": 20,
   "metadata": {},
   "outputs": [
    {
     "data": {
      "text/plain": [
       "array([1, 2, 1, 2, 1, 2, 2, 2, 1, 2, 1, 2, 2, 1, 2, 2, 2, 2, 2, 2, 2, 2,\n",
       "       1, 2, 2, 1, 2, 2, 2, 2, 2, 2, 2, 2, 2, 2, 2, 2, 2, 1, 1, 2, 1, 1,\n",
       "       2, 2, 2, 1, 1, 1, 2, 1, 1, 1, 1, 1, 2, 2, 2, 1, 2, 2, 2, 2, 2, 1,\n",
       "       1, 2, 1, 2, 2, 2, 1, 1, 2, 1, 2, 2, 1, 2, 2, 2, 2, 1, 2, 2, 2, 1,\n",
       "       1, 2, 2, 1, 2, 2, 2, 1, 1, 1, 2, 1, 2, 1, 2, 1, 2, 1, 1, 2, 2, 1,\n",
       "       2, 2, 1, 2, 2, 1, 2, 2, 2, 1, 2, 2, 2, 2, 2, 2, 1, 2, 2, 2, 2, 2,\n",
       "       2, 1, 2, 1, 1, 2, 1, 2, 2, 2, 2, 2, 2, 2, 1, 2, 2, 2, 2, 2, 2, 2,\n",
       "       2, 2, 2, 2, 2, 1, 1, 2, 1, 1, 1, 2, 1, 2, 2, 2, 2, 2, 2, 1, 1, 1,\n",
       "       2, 2, 1, 2, 2, 2, 2, 2, 1, 1, 2, 2, 2, 2, 2, 2, 2, 1, 2, 1, 1, 2,\n",
       "       1, 2, 2, 1, 2, 2, 1, 2, 1, 2, 1, 2], dtype=int32)"
      ]
     },
     "execution_count": 20,
     "metadata": {},
     "output_type": "execute_result"
    }
   ],
   "source": [
    "clusters = fcluster(wardlink, 2, criterion='maxclust')\n",
    "clusters"
   ]
  },
  {
   "cell_type": "code",
   "execution_count": 21,
   "metadata": {},
   "outputs": [
    {
     "data": {
      "text/html": [
       "<div>\n",
       "<style scoped>\n",
       "    .dataframe tbody tr th:only-of-type {\n",
       "        vertical-align: middle;\n",
       "    }\n",
       "\n",
       "    .dataframe tbody tr th {\n",
       "        vertical-align: top;\n",
       "    }\n",
       "\n",
       "    .dataframe thead th {\n",
       "        text-align: right;\n",
       "    }\n",
       "</style>\n",
       "<table border=\"1\" class=\"dataframe\">\n",
       "  <thead>\n",
       "    <tr style=\"text-align: right;\">\n",
       "      <th></th>\n",
       "      <th>spending</th>\n",
       "      <th>advance_payments</th>\n",
       "      <th>probability_of_full_payment</th>\n",
       "      <th>current_balance</th>\n",
       "      <th>credit_limit</th>\n",
       "      <th>min_payment_amt</th>\n",
       "      <th>max_spent_in_single_shopping</th>\n",
       "      <th>hier_clusters</th>\n",
       "    </tr>\n",
       "  </thead>\n",
       "  <tbody>\n",
       "    <tr>\n",
       "      <th>0</th>\n",
       "      <td>19.94</td>\n",
       "      <td>16.92</td>\n",
       "      <td>0.8752</td>\n",
       "      <td>6.675</td>\n",
       "      <td>3.763</td>\n",
       "      <td>3.252</td>\n",
       "      <td>6.550</td>\n",
       "      <td>1</td>\n",
       "    </tr>\n",
       "    <tr>\n",
       "      <th>1</th>\n",
       "      <td>15.99</td>\n",
       "      <td>14.89</td>\n",
       "      <td>0.9064</td>\n",
       "      <td>5.363</td>\n",
       "      <td>3.582</td>\n",
       "      <td>3.336</td>\n",
       "      <td>5.144</td>\n",
       "      <td>2</td>\n",
       "    </tr>\n",
       "    <tr>\n",
       "      <th>2</th>\n",
       "      <td>18.95</td>\n",
       "      <td>16.42</td>\n",
       "      <td>0.8829</td>\n",
       "      <td>6.248</td>\n",
       "      <td>3.755</td>\n",
       "      <td>3.368</td>\n",
       "      <td>6.148</td>\n",
       "      <td>1</td>\n",
       "    </tr>\n",
       "    <tr>\n",
       "      <th>3</th>\n",
       "      <td>10.83</td>\n",
       "      <td>12.96</td>\n",
       "      <td>0.8099</td>\n",
       "      <td>5.278</td>\n",
       "      <td>2.641</td>\n",
       "      <td>5.182</td>\n",
       "      <td>5.185</td>\n",
       "      <td>2</td>\n",
       "    </tr>\n",
       "    <tr>\n",
       "      <th>4</th>\n",
       "      <td>17.99</td>\n",
       "      <td>15.86</td>\n",
       "      <td>0.8992</td>\n",
       "      <td>5.890</td>\n",
       "      <td>3.694</td>\n",
       "      <td>2.068</td>\n",
       "      <td>5.837</td>\n",
       "      <td>1</td>\n",
       "    </tr>\n",
       "  </tbody>\n",
       "</table>\n",
       "</div>"
      ],
      "text/plain": [
       "   spending  advance_payments  probability_of_full_payment  current_balance  \\\n",
       "0     19.94             16.92                       0.8752            6.675   \n",
       "1     15.99             14.89                       0.9064            5.363   \n",
       "2     18.95             16.42                       0.8829            6.248   \n",
       "3     10.83             12.96                       0.8099            5.278   \n",
       "4     17.99             15.86                       0.8992            5.890   \n",
       "\n",
       "   credit_limit  min_payment_amt  max_spent_in_single_shopping  hier_clusters  \n",
       "0         3.763            3.252                         6.550              1  \n",
       "1         3.582            3.336                         5.144              2  \n",
       "2         3.755            3.368                         6.148              1  \n",
       "3         2.641            5.182                         5.185              2  \n",
       "4         3.694            2.068                         5.837              1  "
      ]
     },
     "execution_count": 21,
     "metadata": {},
     "output_type": "execute_result"
    }
   ],
   "source": [
    "df['hier_clusters']=clusters\n",
    "df.head()"
   ]
  },
  {
   "cell_type": "markdown",
   "metadata": {},
   "source": [
    "The optimum clusters would be 2."
   ]
  },
  {
   "cell_type": "markdown",
   "metadata": {},
   "source": [
    "<b>1.4 Apply K-Means clustering on scaled data and determine optimum clusters. Apply elbow curve and silhouette score.</b>"
   ]
  },
  {
   "cell_type": "code",
   "execution_count": 22,
   "metadata": {},
   "outputs": [],
   "source": [
    "from sklearn.cluster import KMeans"
   ]
  },
  {
   "cell_type": "code",
   "execution_count": 23,
   "metadata": {},
   "outputs": [],
   "source": [
    "k_means = KMeans(n_clusters = 2)"
   ]
  },
  {
   "cell_type": "code",
   "execution_count": 24,
   "metadata": {},
   "outputs": [
    {
     "data": {
      "text/plain": [
       "KMeans(n_clusters=2)"
      ]
     },
     "execution_count": 24,
     "metadata": {},
     "output_type": "execute_result"
    }
   ],
   "source": [
    "k_means.fit(scaled_df)"
   ]
  },
  {
   "cell_type": "code",
   "execution_count": 25,
   "metadata": {},
   "outputs": [
    {
     "data": {
      "text/plain": [
       "array([0, 1, 0, 1, 0, 1, 1, 1, 0, 1, 0, 1, 1, 0, 1, 1, 0, 1, 1, 1, 1, 1,\n",
       "       0, 1, 1, 0, 1, 1, 1, 1, 1, 1, 1, 0, 1, 1, 1, 1, 1, 0, 0, 1, 0, 0,\n",
       "       1, 1, 1, 0, 0, 0, 1, 0, 0, 0, 0, 0, 1, 1, 1, 0, 1, 1, 1, 1, 1, 0,\n",
       "       0, 1, 0, 1, 1, 1, 0, 0, 1, 0, 1, 1, 0, 1, 1, 1, 1, 0, 1, 1, 0, 0,\n",
       "       0, 1, 1, 0, 1, 1, 1, 0, 0, 0, 1, 0, 1, 0, 1, 0, 1, 0, 0, 1, 1, 0,\n",
       "       0, 1, 0, 1, 1, 0, 1, 1, 1, 0, 1, 1, 1, 1, 1, 1, 0, 1, 1, 1, 1, 1,\n",
       "       1, 0, 1, 0, 0, 1, 0, 1, 1, 1, 1, 1, 1, 1, 0, 1, 1, 1, 1, 1, 1, 0,\n",
       "       1, 1, 1, 1, 1, 0, 0, 1, 0, 0, 0, 1, 0, 1, 1, 1, 0, 1, 1, 0, 0, 0,\n",
       "       1, 1, 0, 1, 1, 1, 1, 1, 0, 0, 1, 1, 1, 1, 1, 1, 1, 0, 1, 0, 0, 1,\n",
       "       0, 1, 1, 0, 1, 1, 0, 1, 0, 1, 0, 0])"
      ]
     },
     "execution_count": 25,
     "metadata": {},
     "output_type": "execute_result"
    }
   ],
   "source": [
    "k_means.labels_"
   ]
  },
  {
   "cell_type": "code",
   "execution_count": 26,
   "metadata": {},
   "outputs": [
    {
     "data": {
      "text/plain": [
       "659.171754487041"
      ]
     },
     "execution_count": 26,
     "metadata": {},
     "output_type": "execute_result"
    }
   ],
   "source": [
    "k_means.inertia_"
   ]
  },
  {
   "cell_type": "code",
   "execution_count": 27,
   "metadata": {},
   "outputs": [
    {
     "data": {
      "text/plain": [
       "1469.9999999999998"
      ]
     },
     "execution_count": 27,
     "metadata": {},
     "output_type": "execute_result"
    }
   ],
   "source": [
    "k_means = KMeans(n_clusters = 1)\n",
    "k_means.fit(scaled_df)\n",
    "k_means.inertia_"
   ]
  },
  {
   "cell_type": "code",
   "execution_count": 28,
   "metadata": {},
   "outputs": [
    {
     "data": {
      "text/plain": [
       "430.6589731513006"
      ]
     },
     "execution_count": 28,
     "metadata": {},
     "output_type": "execute_result"
    }
   ],
   "source": [
    "k_means = KMeans(n_clusters = 3)\n",
    "k_means.fit(scaled_df)\n",
    "k_means.inertia_"
   ]
  },
  {
   "cell_type": "code",
   "execution_count": 29,
   "metadata": {},
   "outputs": [
    {
     "data": {
      "text/plain": [
       "371.65314399951626"
      ]
     },
     "execution_count": 29,
     "metadata": {},
     "output_type": "execute_result"
    }
   ],
   "source": [
    "k_means = KMeans(n_clusters = 4)\n",
    "k_means.fit(scaled_df)\n",
    "k_means.inertia_"
   ]
  },
  {
   "cell_type": "code",
   "execution_count": 30,
   "metadata": {},
   "outputs": [],
   "source": [
    "wss =[]"
   ]
  },
  {
   "cell_type": "code",
   "execution_count": 31,
   "metadata": {},
   "outputs": [],
   "source": [
    "for i in range(1,11):\n",
    "    KM = KMeans(n_clusters=i)\n",
    "    KM.fit(scaled_df)\n",
    "    wss.append(KM.inertia_)"
   ]
  },
  {
   "cell_type": "code",
   "execution_count": 32,
   "metadata": {},
   "outputs": [
    {
     "data": {
      "text/plain": [
       "[1469.9999999999998,\n",
       " 659.171754487041,\n",
       " 430.6589731513006,\n",
       " 371.5811909715524,\n",
       " 327.442504700837,\n",
       " 289.8831842514518,\n",
       " 265.0178056622643,\n",
       " 240.07897279861916,\n",
       " 223.0360993284905,\n",
       " 206.44306862461164]"
      ]
     },
     "execution_count": 32,
     "metadata": {},
     "output_type": "execute_result"
    }
   ],
   "source": [
    "wss"
   ]
  },
  {
   "cell_type": "code",
   "execution_count": 33,
   "metadata": {},
   "outputs": [
    {
     "data": {
      "text/plain": [
       "[<matplotlib.lines.Line2D at 0x1b05d34fd30>]"
      ]
     },
     "execution_count": 33,
     "metadata": {},
     "output_type": "execute_result"
    },
    {
     "data": {
      "image/png": "[encoded data removed]",
      "text/plain": [
       "<Figure size 432x288 with 1 Axes>"
      ]
     },
     "metadata": {
      "needs_background": "light"
     },
     "output_type": "display_data"
    }
   ],
   "source": [
    "plt.plot(range(1,11), wss)"
   ]
  },
  {
   "cell_type": "code",
   "execution_count": 34,
   "metadata": {},
   "outputs": [],
   "source": [
    "k_means = KMeans(n_clusters = 2,random_state=0)\n",
    "k_means.fit(scaled_df)\n",
    "labels = k_means.labels_"
   ]
  },
  {
   "cell_type": "code",
   "execution_count": 35,
   "metadata": {},
   "outputs": [
    {
     "data": {
      "text/html": [
       "<div>\n",
       "<style scoped>\n",
       "    .dataframe tbody tr th:only-of-type {\n",
       "        vertical-align: middle;\n",
       "    }\n",
       "\n",
       "    .dataframe tbody tr th {\n",
       "        vertical-align: top;\n",
       "    }\n",
       "\n",
       "    .dataframe thead th {\n",
       "        text-align: right;\n",
       "    }\n",
       "</style>\n",
       "<table border=\"1\" class=\"dataframe\">\n",
       "  <thead>\n",
       "    <tr style=\"text-align: right;\">\n",
       "      <th></th>\n",
       "      <th>spending</th>\n",
       "      <th>advance_payments</th>\n",
       "      <th>probability_of_full_payment</th>\n",
       "      <th>current_balance</th>\n",
       "      <th>credit_limit</th>\n",
       "      <th>min_payment_amt</th>\n",
       "      <th>max_spent_in_single_shopping</th>\n",
       "      <th>hier_clusters</th>\n",
       "      <th>KM_Clusters</th>\n",
       "    </tr>\n",
       "  </thead>\n",
       "  <tbody>\n",
       "    <tr>\n",
       "      <th>0</th>\n",
       "      <td>19.94</td>\n",
       "      <td>16.92</td>\n",
       "      <td>0.8752</td>\n",
       "      <td>6.675</td>\n",
       "      <td>3.763</td>\n",
       "      <td>3.252</td>\n",
       "      <td>6.550</td>\n",
       "      <td>1</td>\n",
       "      <td>1</td>\n",
       "    </tr>\n",
       "    <tr>\n",
       "      <th>1</th>\n",
       "      <td>15.99</td>\n",
       "      <td>14.89</td>\n",
       "      <td>0.9064</td>\n",
       "      <td>5.363</td>\n",
       "      <td>3.582</td>\n",
       "      <td>3.336</td>\n",
       "      <td>5.144</td>\n",
       "      <td>2</td>\n",
       "      <td>0</td>\n",
       "    </tr>\n",
       "    <tr>\n",
       "      <th>2</th>\n",
       "      <td>18.95</td>\n",
       "      <td>16.42</td>\n",
       "      <td>0.8829</td>\n",
       "      <td>6.248</td>\n",
       "      <td>3.755</td>\n",
       "      <td>3.368</td>\n",
       "      <td>6.148</td>\n",
       "      <td>1</td>\n",
       "      <td>1</td>\n",
       "    </tr>\n",
       "    <tr>\n",
       "      <th>3</th>\n",
       "      <td>10.83</td>\n",
       "      <td>12.96</td>\n",
       "      <td>0.8099</td>\n",
       "      <td>5.278</td>\n",
       "      <td>2.641</td>\n",
       "      <td>5.182</td>\n",
       "      <td>5.185</td>\n",
       "      <td>2</td>\n",
       "      <td>0</td>\n",
       "    </tr>\n",
       "    <tr>\n",
       "      <th>4</th>\n",
       "      <td>17.99</td>\n",
       "      <td>15.86</td>\n",
       "      <td>0.8992</td>\n",
       "      <td>5.890</td>\n",
       "      <td>3.694</td>\n",
       "      <td>2.068</td>\n",
       "      <td>5.837</td>\n",
       "      <td>1</td>\n",
       "      <td>1</td>\n",
       "    </tr>\n",
       "  </tbody>\n",
       "</table>\n",
       "</div>"
      ],
      "text/plain": [
       "   spending  advance_payments  probability_of_full_payment  current_balance  \\\n",
       "0     19.94             16.92                       0.8752            6.675   \n",
       "1     15.99             14.89                       0.9064            5.363   \n",
       "2     18.95             16.42                       0.8829            6.248   \n",
       "3     10.83             12.96                       0.8099            5.278   \n",
       "4     17.99             15.86                       0.8992            5.890   \n",
       "\n",
       "   credit_limit  min_payment_amt  max_spent_in_single_shopping  hier_clusters  \\\n",
       "0         3.763            3.252                         6.550              1   \n",
       "1         3.582            3.336                         5.144              2   \n",
       "2         3.755            3.368                         6.148              1   \n",
       "3         2.641            5.182                         5.185              2   \n",
       "4         3.694            2.068                         5.837              1   \n",
       "\n",
       "   KM_Clusters  \n",
       "0            1  \n",
       "1            0  \n",
       "2            1  \n",
       "3            0  \n",
       "4            1  "
      ]
     },
     "execution_count": 35,
     "metadata": {},
     "output_type": "execute_result"
    }
   ],
   "source": [
    "df['KM_Clusters'] =labels\n",
    "df.head()"
   ]
  },
  {
   "cell_type": "code",
   "execution_count": 36,
   "metadata": {},
   "outputs": [],
   "source": [
    "from sklearn.metrics import silhouette_samples, silhouette_score"
   ]
  },
  {
   "cell_type": "code",
   "execution_count": 37,
   "metadata": {},
   "outputs": [
    {
     "data": {
      "text/plain": [
       "0.46577247686580914"
      ]
     },
     "execution_count": 37,
     "metadata": {},
     "output_type": "execute_result"
    }
   ],
   "source": [
    "silhouette_score(scaled_df,labels)"
   ]
  },
  {
   "cell_type": "code",
   "execution_count": 38,
   "metadata": {},
   "outputs": [],
   "source": [
    "sil_width = silhouette_samples(scaled_df,labels)"
   ]
  },
  {
   "cell_type": "code",
   "execution_count": 39,
   "metadata": {},
   "outputs": [
    {
     "data": {
      "text/plain": [
       "-0.006171238927461077"
      ]
     },
     "execution_count": 39,
     "metadata": {},
     "output_type": "execute_result"
    }
   ],
   "source": [
    "silhouette_samples(scaled_df,labels).min()"
   ]
  },
  {
   "cell_type": "code",
   "execution_count": 40,
   "metadata": {},
   "outputs": [
    {
     "data": {
      "text/html": [
       "<div>\n",
       "<style scoped>\n",
       "    .dataframe tbody tr th:only-of-type {\n",
       "        vertical-align: middle;\n",
       "    }\n",
       "\n",
       "    .dataframe tbody tr th {\n",
       "        vertical-align: top;\n",
       "    }\n",
       "\n",
       "    .dataframe thead th {\n",
       "        text-align: right;\n",
       "    }\n",
       "</style>\n",
       "<table border=\"1\" class=\"dataframe\">\n",
       "  <thead>\n",
       "    <tr style=\"text-align: right;\">\n",
       "      <th></th>\n",
       "      <th>spending</th>\n",
       "      <th>advance_payments</th>\n",
       "      <th>probability_of_full_payment</th>\n",
       "      <th>current_balance</th>\n",
       "      <th>credit_limit</th>\n",
       "      <th>min_payment_amt</th>\n",
       "      <th>max_spent_in_single_shopping</th>\n",
       "      <th>hier_clusters</th>\n",
       "      <th>KM_Clusters</th>\n",
       "      <th>sil_width</th>\n",
       "    </tr>\n",
       "  </thead>\n",
       "  <tbody>\n",
       "    <tr>\n",
       "      <th>0</th>\n",
       "      <td>19.94</td>\n",
       "      <td>16.92</td>\n",
       "      <td>0.8752</td>\n",
       "      <td>6.675</td>\n",
       "      <td>3.763</td>\n",
       "      <td>3.252</td>\n",
       "      <td>6.550</td>\n",
       "      <td>1</td>\n",
       "      <td>1</td>\n",
       "      <td>0.603797</td>\n",
       "    </tr>\n",
       "    <tr>\n",
       "      <th>1</th>\n",
       "      <td>15.99</td>\n",
       "      <td>14.89</td>\n",
       "      <td>0.9064</td>\n",
       "      <td>5.363</td>\n",
       "      <td>3.582</td>\n",
       "      <td>3.336</td>\n",
       "      <td>5.144</td>\n",
       "      <td>2</td>\n",
       "      <td>0</td>\n",
       "      <td>0.008748</td>\n",
       "    </tr>\n",
       "    <tr>\n",
       "      <th>2</th>\n",
       "      <td>18.95</td>\n",
       "      <td>16.42</td>\n",
       "      <td>0.8829</td>\n",
       "      <td>6.248</td>\n",
       "      <td>3.755</td>\n",
       "      <td>3.368</td>\n",
       "      <td>6.148</td>\n",
       "      <td>1</td>\n",
       "      <td>1</td>\n",
       "      <td>0.678038</td>\n",
       "    </tr>\n",
       "    <tr>\n",
       "      <th>3</th>\n",
       "      <td>10.83</td>\n",
       "      <td>12.96</td>\n",
       "      <td>0.8099</td>\n",
       "      <td>5.278</td>\n",
       "      <td>2.641</td>\n",
       "      <td>5.182</td>\n",
       "      <td>5.185</td>\n",
       "      <td>2</td>\n",
       "      <td>0</td>\n",
       "      <td>0.495306</td>\n",
       "    </tr>\n",
       "    <tr>\n",
       "      <th>4</th>\n",
       "      <td>17.99</td>\n",
       "      <td>15.86</td>\n",
       "      <td>0.8992</td>\n",
       "      <td>5.890</td>\n",
       "      <td>3.694</td>\n",
       "      <td>2.068</td>\n",
       "      <td>5.837</td>\n",
       "      <td>1</td>\n",
       "      <td>1</td>\n",
       "      <td>0.548072</td>\n",
       "    </tr>\n",
       "  </tbody>\n",
       "</table>\n",
       "</div>"
      ],
      "text/plain": [
       "   spending  advance_payments  probability_of_full_payment  current_balance  \\\n",
       "0     19.94             16.92                       0.8752            6.675   \n",
       "1     15.99             14.89                       0.9064            5.363   \n",
       "2     18.95             16.42                       0.8829            6.248   \n",
       "3     10.83             12.96                       0.8099            5.278   \n",
       "4     17.99             15.86                       0.8992            5.890   \n",
       "\n",
       "   credit_limit  min_payment_amt  max_spent_in_single_shopping  hier_clusters  \\\n",
       "0         3.763            3.252                         6.550              1   \n",
       "1         3.582            3.336                         5.144              2   \n",
       "2         3.755            3.368                         6.148              1   \n",
       "3         2.641            5.182                         5.185              2   \n",
       "4         3.694            2.068                         5.837              1   \n",
       "\n",
       "   KM_Clusters  sil_width  \n",
       "0            1   0.603797  \n",
       "1            0   0.008748  \n",
       "2            1   0.678038  \n",
       "3            0   0.495306  \n",
       "4            1   0.548072  "
      ]
     },
     "execution_count": 40,
     "metadata": {},
     "output_type": "execute_result"
    }
   ],
   "source": [
    "df[\"sil_width\"] = sil_width\n",
    "df.head(5)"
   ]
  },
  {
   "cell_type": "code",
   "execution_count": 42,
   "metadata": {},
   "outputs": [],
   "source": [
    "df.to_csv('Clustering_DataFrame1.csv')"
   ]
  },
  {
   "cell_type": "markdown",
   "metadata": {},
   "source": [
    "<b>1.5 Describe cluster profiles for the clusters defined. Recommend different promotional strategies for different clusters.</b>"
   ]
  },
  {
   "cell_type": "markdown",
   "metadata": {},
   "source": [
    "Cluster profiles"
   ]
  },
  {
   "cell_type": "markdown",
   "metadata": {},
   "source": [
    "# Problem 2\n",
    "<b> An Insurance firm providing tour insurance is facing higher claim frequency. The management decides to collect data from the past few years. You are assigned the task to make a model which predicts the claim status and provide recommendations to management. Use CART, RF & ANN and compare the models' performances in train and test sets.</b>"
   ]
  },
  {
   "cell_type": "markdown",
   "metadata": {},
   "source": [
    "<b>2.1 Data Ingestion: Read the dataset. Do the descriptive statistics and do null value condition check, write an inference on it</b>"
   ]
  },
  {
   "cell_type": "code",
   "execution_count": 43,
   "metadata": {},
   "outputs": [],
   "source": [
    "df1 = pd.read_csv(\"insurance_part2_data.csv\")"
   ]
  },
  {
   "cell_type": "code",
   "execution_count": 44,
   "metadata": {},
   "outputs": [
    {
     "data": {
      "text/html": [
       "<div>\n",
       "<style scoped>\n",
       "    .dataframe tbody tr th:only-of-type {\n",
       "        vertical-align: middle;\n",
       "    }\n",
       "\n",
       "    .dataframe tbody tr th {\n",
       "        vertical-align: top;\n",
       "    }\n",
       "\n",
       "    .dataframe thead th {\n",
       "        text-align: right;\n",
       "    }\n",
       "</style>\n",
       "<table border=\"1\" class=\"dataframe\">\n",
       "  <thead>\n",
       "    <tr style=\"text-align: right;\">\n",
       "      <th></th>\n",
       "      <th>Age</th>\n",
       "      <th>Agency_Code</th>\n",
       "      <th>Type</th>\n",
       "      <th>Claimed</th>\n",
       "      <th>Commision</th>\n",
       "      <th>Channel</th>\n",
       "      <th>Duration</th>\n",
       "      <th>Sales</th>\n",
       "      <th>Product Name</th>\n",
       "      <th>Destination</th>\n",
       "    </tr>\n",
       "  </thead>\n",
       "  <tbody>\n",
       "    <tr>\n",
       "      <th>0</th>\n",
       "      <td>48</td>\n",
       "      <td>C2B</td>\n",
       "      <td>Airlines</td>\n",
       "      <td>No</td>\n",
       "      <td>0.70</td>\n",
       "      <td>Online</td>\n",
       "      <td>7</td>\n",
       "      <td>2.51</td>\n",
       "      <td>Customised Plan</td>\n",
       "      <td>ASIA</td>\n",
       "    </tr>\n",
       "    <tr>\n",
       "      <th>1</th>\n",
       "      <td>36</td>\n",
       "      <td>EPX</td>\n",
       "      <td>Travel Agency</td>\n",
       "      <td>No</td>\n",
       "      <td>0.00</td>\n",
       "      <td>Online</td>\n",
       "      <td>34</td>\n",
       "      <td>20.00</td>\n",
       "      <td>Customised Plan</td>\n",
       "      <td>ASIA</td>\n",
       "    </tr>\n",
       "    <tr>\n",
       "      <th>2</th>\n",
       "      <td>39</td>\n",
       "      <td>CWT</td>\n",
       "      <td>Travel Agency</td>\n",
       "      <td>No</td>\n",
       "      <td>5.94</td>\n",
       "      <td>Online</td>\n",
       "      <td>3</td>\n",
       "      <td>9.90</td>\n",
       "      <td>Customised Plan</td>\n",
       "      <td>Americas</td>\n",
       "    </tr>\n",
       "    <tr>\n",
       "      <th>3</th>\n",
       "      <td>36</td>\n",
       "      <td>EPX</td>\n",
       "      <td>Travel Agency</td>\n",
       "      <td>No</td>\n",
       "      <td>0.00</td>\n",
       "      <td>Online</td>\n",
       "      <td>4</td>\n",
       "      <td>26.00</td>\n",
       "      <td>Cancellation Plan</td>\n",
       "      <td>ASIA</td>\n",
       "    </tr>\n",
       "    <tr>\n",
       "      <th>4</th>\n",
       "      <td>33</td>\n",
       "      <td>JZI</td>\n",
       "      <td>Airlines</td>\n",
       "      <td>No</td>\n",
       "      <td>6.30</td>\n",
       "      <td>Online</td>\n",
       "      <td>53</td>\n",
       "      <td>18.00</td>\n",
       "      <td>Bronze Plan</td>\n",
       "      <td>ASIA</td>\n",
       "    </tr>\n",
       "  </tbody>\n",
       "</table>\n",
       "</div>"
      ],
      "text/plain": [
       "   Age Agency_Code           Type Claimed  Commision Channel  Duration  Sales  \\\n",
       "0   48         C2B       Airlines      No       0.70  Online         7   2.51   \n",
       "1   36         EPX  Travel Agency      No       0.00  Online        34  20.00   \n",
       "2   39         CWT  Travel Agency      No       5.94  Online         3   9.90   \n",
       "3   36         EPX  Travel Agency      No       0.00  Online         4  26.00   \n",
       "4   33         JZI       Airlines      No       6.30  Online        53  18.00   \n",
       "\n",
       "        Product Name Destination  \n",
       "0    Customised Plan        ASIA  \n",
       "1    Customised Plan        ASIA  \n",
       "2    Customised Plan    Americas  \n",
       "3  Cancellation Plan        ASIA  \n",
       "4        Bronze Plan        ASIA  "
      ]
     },
     "execution_count": 44,
     "metadata": {},
     "output_type": "execute_result"
    }
   ],
   "source": [
    "df1.head()"
   ]
  },
  {
   "cell_type": "code",
   "execution_count": 45,
   "metadata": {},
   "outputs": [
    {
     "data": {
      "text/plain": [
       "Age             0\n",
       "Agency_Code     0\n",
       "Type            0\n",
       "Claimed         0\n",
       "Commision       0\n",
       "Channel         0\n",
       "Duration        0\n",
       "Sales           0\n",
       "Product Name    0\n",
       "Destination     0\n",
       "dtype: int64"
      ]
     },
     "execution_count": 45,
     "metadata": {},
     "output_type": "execute_result"
    }
   ],
   "source": [
    "df1.isnull().sum()"
   ]
  },
  {
   "cell_type": "code",
   "execution_count": 46,
   "metadata": {},
   "outputs": [
    {
     "data": {
      "text/plain": [
       "(3000, 10)"
      ]
     },
     "execution_count": 46,
     "metadata": {},
     "output_type": "execute_result"
    }
   ],
   "source": [
    "df1.shape"
   ]
  },
  {
   "cell_type": "code",
   "execution_count": 47,
   "metadata": {},
   "outputs": [
    {
     "name": "stdout",
     "output_type": "stream",
     "text": [
      "<class 'pandas.core.frame.DataFrame'>\n",
      "RangeIndex: 3000 entries, 0 to 2999\n",
      "Data columns (total 10 columns):\n",
      " #   Column        Non-Null Count  Dtype  \n",
      "---  ------        --------------  -----  \n",
      " 0   Age           3000 non-null   int64  \n",
      " 1   Agency_Code   3000 non-null   object \n",
      " 2   Type          3000 non-null   object \n",
      " 3   Claimed       3000 non-null   object \n",
      " 4   Commision     3000 non-null   float64\n",
      " 5   Channel       3000 non-null   object \n",
      " 6   Duration      3000 non-null   int64  \n",
      " 7   Sales         3000 non-null   float64\n",
      " 8   Product Name  3000 non-null   object \n",
      " 9   Destination   3000 non-null   object \n",
      "dtypes: float64(2), int64(2), object(6)\n",
      "memory usage: 234.5+ KB\n"
     ]
    }
   ],
   "source": [
    "df1.info()"
   ]
  },
  {
   "cell_type": "code",
   "execution_count": 48,
   "metadata": {},
   "outputs": [],
   "source": [
    "df1['Duration'].replace(to_replace=-1,value=df1['Duration'].median(), inplace= True)"
   ]
  },
  {
   "cell_type": "code",
   "execution_count": 49,
   "metadata": {},
   "outputs": [
    {
     "data": {
      "text/plain": [
       "Age          10.000\n",
       "Commision    17.235\n",
       "Duration     52.000\n",
       "Sales        49.000\n",
       "dtype: float64"
      ]
     },
     "execution_count": 49,
     "metadata": {},
     "output_type": "execute_result"
    }
   ],
   "source": [
    "q1 = df1.quantile(0.25)\n",
    "q3 = df1.quantile(0.75)\n",
    "iqr = q3-q1\n",
    "iqr"
   ]
  },
  {
   "cell_type": "code",
   "execution_count": 50,
   "metadata": {},
   "outputs": [
    {
     "name": "stdout",
     "output_type": "stream",
     "text": [
      "The below list shows the number of outliers present in each columns:\n"
     ]
    },
    {
     "data": {
      "text/plain": [
       "Age             204\n",
       "Agency_Code       0\n",
       "Channel           0\n",
       "Claimed           0\n",
       "Commision       362\n",
       "Destination       0\n",
       "Duration        382\n",
       "Product Name      0\n",
       "Sales           353\n",
       "Type              0\n",
       "dtype: int64"
      ]
     },
     "execution_count": 50,
     "metadata": {},
     "output_type": "execute_result"
    }
   ],
   "source": [
    "outliers = (df1<(q1-1.5*iqr))|(df1>(q3+1.5*iqr))\n",
    "print('The below list shows the number of outliers present in each columns:')\n",
    "outliers.sum()"
   ]
  },
  {
   "cell_type": "code",
   "execution_count": 51,
   "metadata": {},
   "outputs": [
    {
     "data": {
      "image/png": "[encoded data removed]",
      "text/plain": [
       "<Figure size 720x360 with 1 Axes>"
      ]
     },
     "metadata": {
      "needs_background": "light"
     },
     "output_type": "display_data"
    }
   ],
   "source": [
    "plt.figure(figsize=(10,5))\n",
    "df1[['Age','Commision','Duration','Sales']].boxplot()\n",
    "plt.show()"
   ]
  },
  {
   "cell_type": "code",
   "execution_count": 52,
   "metadata": {},
   "outputs": [],
   "source": [
    "def treat_outlier(col):\n",
    "    sorted(col)\n",
    "    Q1,Q3=np.percentile(col,[25,75])\n",
    "    IQR=Q3-Q1\n",
    "    lower_range= Q1-(1.5 * IQR)\n",
    "    upper_range= Q3+(1.5 * IQR)\n",
    "    return lower_range, upper_range"
   ]
  },
  {
   "cell_type": "code",
   "execution_count": 53,
   "metadata": {},
   "outputs": [],
   "source": [
    "for feature in df1[['Age','Commision','Duration','Sales']]: \n",
    "    lr,ur=treat_outlier(df1[feature])\n",
    "    df1[feature]=np.where(df1[feature]>ur,ur,df1[feature])\n",
    "    df1[feature]=np.where(df1[feature]<lr,lr,df1[feature])"
   ]
  },
  {
   "cell_type": "code",
   "execution_count": 54,
   "metadata": {},
   "outputs": [
    {
     "name": "stdout",
     "output_type": "stream",
     "text": [
      "The below list shows the number of outliers present in each columns:\n"
     ]
    },
    {
     "data": {
      "text/plain": [
       "Age             0\n",
       "Agency_Code     0\n",
       "Channel         0\n",
       "Claimed         0\n",
       "Commision       0\n",
       "Destination     0\n",
       "Duration        0\n",
       "Product Name    0\n",
       "Sales           0\n",
       "Type            0\n",
       "dtype: int64"
      ]
     },
     "execution_count": 54,
     "metadata": {},
     "output_type": "execute_result"
    }
   ],
   "source": [
    "outliers = (df1<(q1-1.5*iqr))|(df1>(q3+1.5*iqr))\n",
    "print('The below list shows the number of outliers present in each columns:')\n",
    "outliers.sum()"
   ]
  },
  {
   "cell_type": "code",
   "execution_count": 55,
   "metadata": {},
   "outputs": [
    {
     "name": "stdout",
     "output_type": "stream",
     "text": [
      "\n",
      "\n",
      "feature: Agency_Code\n",
      "[C2B, EPX, CWT, JZI]\n",
      "Categories (4, object): [C2B, CWT, EPX, JZI]\n",
      "[0 2 1 3]\n",
      "\n",
      "\n",
      "feature: Type\n",
      "[Airlines, Travel Agency]\n",
      "Categories (2, object): [Airlines, Travel Agency]\n",
      "[0 1]\n",
      "\n",
      "\n",
      "feature: Claimed\n",
      "[No, Yes]\n",
      "Categories (2, object): [No, Yes]\n",
      "[0 1]\n",
      "\n",
      "\n",
      "feature: Channel\n",
      "[Online, Offline]\n",
      "Categories (2, object): [Offline, Online]\n",
      "[1 0]\n",
      "\n",
      "\n",
      "feature: Product Name\n",
      "[Customised Plan, Cancellation Plan, Bronze Plan, Silver Plan, Gold Plan]\n",
      "Categories (5, object): [Bronze Plan, Cancellation Plan, Customised Plan, Gold Plan, Silver Plan]\n",
      "[2 1 0 4 3]\n",
      "\n",
      "\n",
      "feature: Destination\n",
      "[ASIA, Americas, EUROPE]\n",
      "Categories (3, object): [ASIA, Americas, EUROPE]\n",
      "[0 1 2]\n"
     ]
    }
   ],
   "source": [
    "for feature in df1.columns: \n",
    "    if df1[feature].dtype == 'object': \n",
    "        print('\\n')\n",
    "        print('feature:',feature)\n",
    "        print(pd.Categorical(df1[feature].unique()))\n",
    "        print(pd.Categorical(df1[feature].unique()).codes)\n",
    "        df1[feature] = pd.Categorical(df1[feature]).codes"
   ]
  },
  {
   "cell_type": "code",
   "execution_count": 56,
   "metadata": {},
   "outputs": [
    {
     "name": "stdout",
     "output_type": "stream",
     "text": [
      "Age \n",
      " 36.0    999\n",
      "57.0    215\n",
      "31.0    125\n",
      "48.0    108\n",
      "30.0     96\n",
      "35.0     94\n",
      "28.0     85\n",
      "25.0     73\n",
      "26.0     71\n",
      "32.0     70\n",
      "29.0     66\n",
      "37.0     59\n",
      "34.0     56\n",
      "27.0     54\n",
      "44.0     49\n",
      "38.0     48\n",
      "39.0     46\n",
      "33.0     45\n",
      "40.0     43\n",
      "24.0     43\n",
      "41.0     43\n",
      "45.0     43\n",
      "46.0     40\n",
      "22.0     36\n",
      "53.0     35\n",
      "47.0     35\n",
      "23.0     35\n",
      "43.0     35\n",
      "42.0     34\n",
      "50.0     32\n",
      "52.0     29\n",
      "54.0     26\n",
      "51.0     26\n",
      "49.0     25\n",
      "56.0     21\n",
      "21.0     17\n",
      "55.0     15\n",
      "20.0     10\n",
      "17.0      9\n",
      "19.0      7\n",
      "18.0      2\n",
      "Name: Age, dtype: int64\n",
      "\n",
      "\n",
      "Agency_Code \n",
      " 2    1365\n",
      "0     924\n",
      "1     472\n",
      "3     239\n",
      "Name: Agency_Code, dtype: int64\n",
      "\n",
      "\n",
      "Type \n",
      " 1    1837\n",
      "0    1163\n",
      "Name: Type, dtype: int64\n",
      "\n",
      "\n",
      "Claimed \n",
      " 0    2076\n",
      "1     924\n",
      "Name: Claimed, dtype: int64\n",
      "\n",
      "\n",
      "Commision \n",
      " 0.0000     1366\n",
      "43.0875     362\n",
      "23.7600      61\n",
      "7.7000       57\n",
      "17.8200      57\n",
      "           ... \n",
      "41.4400       1\n",
      "2.6400        1\n",
      "17.2900       1\n",
      "18.1300       1\n",
      "14.4600       1\n",
      "Name: Commision, Length: 251, dtype: int64\n",
      "\n",
      "\n",
      "Channel \n",
      " 1    2954\n",
      "0      46\n",
      "Name: Channel, dtype: int64\n",
      "\n",
      "\n",
      "Duration \n",
      " 141.0    383\n",
      "8.0       83\n",
      "5.0       82\n",
      "11.0      81\n",
      "10.0      81\n",
      "        ... \n",
      "121.0      1\n",
      "127.0      1\n",
      "119.0      1\n",
      "130.0      1\n",
      "94.0       1\n",
      "Name: Duration, Length: 139, dtype: int64\n",
      "\n",
      "\n",
      "Sales \n",
      " 142.50    353\n",
      "20.00     225\n",
      "10.00     163\n",
      "22.00      79\n",
      "39.60      57\n",
      "         ... \n",
      "57.85       1\n",
      "7.55        1\n",
      "38.35       1\n",
      "93.60       1\n",
      "0.64        1\n",
      "Name: Sales, Length: 258, dtype: int64\n",
      "\n",
      "\n",
      "Product name \n",
      " 2    1136\n",
      "1     678\n",
      "0     650\n",
      "4     427\n",
      "3     109\n",
      "Name: Product Name, dtype: int64\n",
      "\n",
      "\n",
      "Destination \n",
      " 0    2465\n",
      "1     320\n",
      "2     215\n",
      "Name: Destination, dtype: int64\n"
     ]
    }
   ],
   "source": [
    "print('Age \\n',df1.Age.value_counts())\n",
    "print('\\n')\n",
    "print('Agency_Code \\n',df1.Agency_Code.value_counts())\n",
    "print('\\n')\n",
    "print('Type \\n',df1.Type.value_counts())\n",
    "print('\\n')\n",
    "print('Claimed \\n',df1.Claimed.value_counts())\n",
    "print('\\n')\n",
    "print('Commision \\n',df1.Commision.value_counts())\n",
    "print('\\n')\n",
    "print('Channel \\n',df1.Channel.value_counts())\n",
    "print('\\n')\n",
    "print('Duration \\n',df1.Duration.value_counts())\n",
    "print('\\n')\n",
    "print('Sales \\n',df1.Sales.value_counts())\n",
    "print('\\n')\n",
    "print('Product name \\n',df1[\"Product Name\"].value_counts())\n",
    "print('\\n')\n",
    "print('Destination \\n',df1.Destination.value_counts())\n"
   ]
  },
  {
   "cell_type": "code",
   "execution_count": 57,
   "metadata": {},
   "outputs": [
    {
     "name": "stdout",
     "output_type": "stream",
     "text": [
      "<class 'pandas.core.frame.DataFrame'>\n",
      "RangeIndex: 3000 entries, 0 to 2999\n",
      "Data columns (total 10 columns):\n",
      " #   Column        Non-Null Count  Dtype  \n",
      "---  ------        --------------  -----  \n",
      " 0   Age           3000 non-null   float64\n",
      " 1   Agency_Code   3000 non-null   int8   \n",
      " 2   Type          3000 non-null   int8   \n",
      " 3   Claimed       3000 non-null   int8   \n",
      " 4   Commision     3000 non-null   float64\n",
      " 5   Channel       3000 non-null   int8   \n",
      " 6   Duration      3000 non-null   float64\n",
      " 7   Sales         3000 non-null   float64\n",
      " 8   Product Name  3000 non-null   int8   \n",
      " 9   Destination   3000 non-null   int8   \n",
      "dtypes: float64(4), int8(6)\n",
      "memory usage: 111.5 KB\n"
     ]
    }
   ],
   "source": [
    "df1.info()"
   ]
  },
  {
   "cell_type": "code",
   "execution_count": 58,
   "metadata": {},
   "outputs": [
    {
     "data": {
      "text/plain": [
       "139"
      ]
     },
     "execution_count": 58,
     "metadata": {},
     "output_type": "execute_result"
    }
   ],
   "source": [
    "df1['Duration'].nunique()"
   ]
  },
  {
   "cell_type": "code",
   "execution_count": 59,
   "metadata": {},
   "outputs": [
    {
     "data": {
      "text/plain": [
       "41"
      ]
     },
     "execution_count": 59,
     "metadata": {},
     "output_type": "execute_result"
    }
   ],
   "source": [
    "df1['Age'].nunique()"
   ]
  },
  {
   "cell_type": "code",
   "execution_count": 60,
   "metadata": {},
   "outputs": [
    {
     "data": {
      "text/plain": [
       "286"
      ]
     },
     "execution_count": 60,
     "metadata": {},
     "output_type": "execute_result"
    }
   ],
   "source": [
    "df1.duplicated().sum()"
   ]
  },
  {
   "cell_type": "code",
   "execution_count": 61,
   "metadata": {},
   "outputs": [],
   "source": [
    "df1= df1.drop_duplicates()"
   ]
  },
  {
   "cell_type": "code",
   "execution_count": 62,
   "metadata": {},
   "outputs": [
    {
     "data": {
      "text/plain": [
       "(2714, 10)"
      ]
     },
     "execution_count": 62,
     "metadata": {},
     "output_type": "execute_result"
    }
   ],
   "source": [
    "df1.shape"
   ]
  },
  {
   "cell_type": "code",
   "execution_count": 63,
   "metadata": {},
   "outputs": [
    {
     "data": {
      "text/plain": [
       "0"
      ]
     },
     "execution_count": 63,
     "metadata": {},
     "output_type": "execute_result"
    }
   ],
   "source": [
    "df1.duplicated().sum()"
   ]
  },
  {
   "cell_type": "code",
   "execution_count": 64,
   "metadata": {},
   "outputs": [
    {
     "data": {
      "text/html": [
       "<div>\n",
       "<style scoped>\n",
       "    .dataframe tbody tr th:only-of-type {\n",
       "        vertical-align: middle;\n",
       "    }\n",
       "\n",
       "    .dataframe tbody tr th {\n",
       "        vertical-align: top;\n",
       "    }\n",
       "\n",
       "    .dataframe thead th {\n",
       "        text-align: right;\n",
       "    }\n",
       "</style>\n",
       "<table border=\"1\" class=\"dataframe\">\n",
       "  <thead>\n",
       "    <tr style=\"text-align: right;\">\n",
       "      <th></th>\n",
       "      <th>Age</th>\n",
       "      <th>Agency_Code</th>\n",
       "      <th>Type</th>\n",
       "      <th>Claimed</th>\n",
       "      <th>Commision</th>\n",
       "      <th>Channel</th>\n",
       "      <th>Duration</th>\n",
       "      <th>Sales</th>\n",
       "      <th>Product Name</th>\n",
       "      <th>Destination</th>\n",
       "    </tr>\n",
       "  </thead>\n",
       "  <tbody>\n",
       "    <tr>\n",
       "      <th>Age</th>\n",
       "      <td>1.000000</td>\n",
       "      <td>0.056331</td>\n",
       "      <td>-0.029683</td>\n",
       "      <td>-0.066977</td>\n",
       "      <td>0.065365</td>\n",
       "      <td>-0.048763</td>\n",
       "      <td>-0.000639</td>\n",
       "      <td>0.008000</td>\n",
       "      <td>0.008103</td>\n",
       "      <td>0.017053</td>\n",
       "    </tr>\n",
       "    <tr>\n",
       "      <th>Agency_Code</th>\n",
       "      <td>0.056331</td>\n",
       "      <td>1.000000</td>\n",
       "      <td>0.502443</td>\n",
       "      <td>-0.369413</td>\n",
       "      <td>-0.416781</td>\n",
       "      <td>0.027664</td>\n",
       "      <td>-0.047049</td>\n",
       "      <td>-0.196499</td>\n",
       "      <td>-0.311774</td>\n",
       "      <td>0.083317</td>\n",
       "    </tr>\n",
       "    <tr>\n",
       "      <th>Type</th>\n",
       "      <td>-0.029683</td>\n",
       "      <td>0.502443</td>\n",
       "      <td>1.000000</td>\n",
       "      <td>-0.277093</td>\n",
       "      <td>-0.224872</td>\n",
       "      <td>-0.101970</td>\n",
       "      <td>-0.001830</td>\n",
       "      <td>-0.066431</td>\n",
       "      <td>0.109815</td>\n",
       "      <td>0.325487</td>\n",
       "    </tr>\n",
       "    <tr>\n",
       "      <th>Claimed</th>\n",
       "      <td>-0.066977</td>\n",
       "      <td>-0.369413</td>\n",
       "      <td>-0.277093</td>\n",
       "      <td>1.000000</td>\n",
       "      <td>0.224757</td>\n",
       "      <td>-0.022341</td>\n",
       "      <td>0.103001</td>\n",
       "      <td>0.242900</td>\n",
       "      <td>0.170329</td>\n",
       "      <td>-0.010986</td>\n",
       "    </tr>\n",
       "    <tr>\n",
       "      <th>Commision</th>\n",
       "      <td>0.065365</td>\n",
       "      <td>-0.416781</td>\n",
       "      <td>-0.224872</td>\n",
       "      <td>0.224757</td>\n",
       "      <td>1.000000</td>\n",
       "      <td>0.023160</td>\n",
       "      <td>0.303609</td>\n",
       "      <td>0.588765</td>\n",
       "      <td>0.301062</td>\n",
       "      <td>0.251261</td>\n",
       "    </tr>\n",
       "    <tr>\n",
       "      <th>Channel</th>\n",
       "      <td>-0.048763</td>\n",
       "      <td>0.027664</td>\n",
       "      <td>-0.101970</td>\n",
       "      <td>-0.022341</td>\n",
       "      <td>0.023160</td>\n",
       "      <td>1.000000</td>\n",
       "      <td>-0.054432</td>\n",
       "      <td>0.026200</td>\n",
       "      <td>-0.052730</td>\n",
       "      <td>0.041081</td>\n",
       "    </tr>\n",
       "    <tr>\n",
       "      <th>Duration</th>\n",
       "      <td>-0.000639</td>\n",
       "      <td>-0.047049</td>\n",
       "      <td>-0.001830</td>\n",
       "      <td>0.103001</td>\n",
       "      <td>0.303609</td>\n",
       "      <td>-0.054432</td>\n",
       "      <td>1.000000</td>\n",
       "      <td>0.405508</td>\n",
       "      <td>0.190982</td>\n",
       "      <td>0.100807</td>\n",
       "    </tr>\n",
       "    <tr>\n",
       "      <th>Sales</th>\n",
       "      <td>0.008000</td>\n",
       "      <td>-0.196499</td>\n",
       "      <td>-0.066431</td>\n",
       "      <td>0.242900</td>\n",
       "      <td>0.588765</td>\n",
       "      <td>0.026200</td>\n",
       "      <td>0.405508</td>\n",
       "      <td>1.000000</td>\n",
       "      <td>0.335380</td>\n",
       "      <td>0.273329</td>\n",
       "    </tr>\n",
       "    <tr>\n",
       "      <th>Product Name</th>\n",
       "      <td>0.008103</td>\n",
       "      <td>-0.311774</td>\n",
       "      <td>0.109815</td>\n",
       "      <td>0.170329</td>\n",
       "      <td>0.301062</td>\n",
       "      <td>-0.052730</td>\n",
       "      <td>0.190982</td>\n",
       "      <td>0.335380</td>\n",
       "      <td>1.000000</td>\n",
       "      <td>0.061126</td>\n",
       "    </tr>\n",
       "    <tr>\n",
       "      <th>Destination</th>\n",
       "      <td>0.017053</td>\n",
       "      <td>0.083317</td>\n",
       "      <td>0.325487</td>\n",
       "      <td>-0.010986</td>\n",
       "      <td>0.251261</td>\n",
       "      <td>0.041081</td>\n",
       "      <td>0.100807</td>\n",
       "      <td>0.273329</td>\n",
       "      <td>0.061126</td>\n",
       "      <td>1.000000</td>\n",
       "    </tr>\n",
       "  </tbody>\n",
       "</table>\n",
       "</div>"
      ],
      "text/plain": [
       "                   Age  Agency_Code      Type   Claimed  Commision   Channel  \\\n",
       "Age           1.000000     0.056331 -0.029683 -0.066977   0.065365 -0.048763   \n",
       "Agency_Code   0.056331     1.000000  0.502443 -0.369413  -0.416781  0.027664   \n",
       "Type         -0.029683     0.502443  1.000000 -0.277093  -0.224872 -0.101970   \n",
       "Claimed      -0.066977    -0.369413 -0.277093  1.000000   0.224757 -0.022341   \n",
       "Commision     0.065365    -0.416781 -0.224872  0.224757   1.000000  0.023160   \n",
       "Channel      -0.048763     0.027664 -0.101970 -0.022341   0.023160  1.000000   \n",
       "Duration     -0.000639    -0.047049 -0.001830  0.103001   0.303609 -0.054432   \n",
       "Sales         0.008000    -0.196499 -0.066431  0.242900   0.588765  0.026200   \n",
       "Product Name  0.008103    -0.311774  0.109815  0.170329   0.301062 -0.052730   \n",
       "Destination   0.017053     0.083317  0.325487 -0.010986   0.251261  0.041081   \n",
       "\n",
       "              Duration     Sales  Product Name  Destination  \n",
       "Age          -0.000639  0.008000      0.008103     0.017053  \n",
       "Agency_Code  -0.047049 -0.196499     -0.311774     0.083317  \n",
       "Type         -0.001830 -0.066431      0.109815     0.325487  \n",
       "Claimed       0.103001  0.242900      0.170329    -0.010986  \n",
       "Commision     0.303609  0.588765      0.301062     0.251261  \n",
       "Channel      -0.054432  0.026200     -0.052730     0.041081  \n",
       "Duration      1.000000  0.405508      0.190982     0.100807  \n",
       "Sales         0.405508  1.000000      0.335380     0.273329  \n",
       "Product Name  0.190982  0.335380      1.000000     0.061126  \n",
       "Destination   0.100807  0.273329      0.061126     1.000000  "
      ]
     },
     "execution_count": 64,
     "metadata": {},
     "output_type": "execute_result"
    }
   ],
   "source": [
    "df1.corr()"
   ]
  },
  {
   "cell_type": "code",
   "execution_count": 65,
   "metadata": {},
   "outputs": [
    {
     "data": {
      "text/plain": [
       "0    0.707811\n",
       "1    0.292189\n",
       "Name: Claimed, dtype: float64"
      ]
     },
     "execution_count": 65,
     "metadata": {},
     "output_type": "execute_result"
    }
   ],
   "source": [
    "df1['Claimed'].value_counts(normalize=True)"
   ]
  },
  {
   "cell_type": "markdown",
   "metadata": {},
   "source": [
    "<b>2.2 Data Split: Split the data into test and train, build classification model CART, Random Forest, Artificial Neural Network</b>"
   ]
  },
  {
   "cell_type": "code",
   "execution_count": 66,
   "metadata": {},
   "outputs": [
    {
     "data": {
      "text/html": [
       "<div>\n",
       "<style scoped>\n",
       "    .dataframe tbody tr th:only-of-type {\n",
       "        vertical-align: middle;\n",
       "    }\n",
       "\n",
       "    .dataframe tbody tr th {\n",
       "        vertical-align: top;\n",
       "    }\n",
       "\n",
       "    .dataframe thead th {\n",
       "        text-align: right;\n",
       "    }\n",
       "</style>\n",
       "<table border=\"1\" class=\"dataframe\">\n",
       "  <thead>\n",
       "    <tr style=\"text-align: right;\">\n",
       "      <th></th>\n",
       "      <th>Age</th>\n",
       "      <th>Agency_Code</th>\n",
       "      <th>Type</th>\n",
       "      <th>Commision</th>\n",
       "      <th>Channel</th>\n",
       "      <th>Duration</th>\n",
       "      <th>Sales</th>\n",
       "      <th>Product Name</th>\n",
       "      <th>Destination</th>\n",
       "    </tr>\n",
       "  </thead>\n",
       "  <tbody>\n",
       "    <tr>\n",
       "      <th>0</th>\n",
       "      <td>48.0</td>\n",
       "      <td>0</td>\n",
       "      <td>0</td>\n",
       "      <td>0.70</td>\n",
       "      <td>1</td>\n",
       "      <td>7.0</td>\n",
       "      <td>2.51</td>\n",
       "      <td>2</td>\n",
       "      <td>0</td>\n",
       "    </tr>\n",
       "    <tr>\n",
       "      <th>1</th>\n",
       "      <td>36.0</td>\n",
       "      <td>2</td>\n",
       "      <td>1</td>\n",
       "      <td>0.00</td>\n",
       "      <td>1</td>\n",
       "      <td>34.0</td>\n",
       "      <td>20.00</td>\n",
       "      <td>2</td>\n",
       "      <td>0</td>\n",
       "    </tr>\n",
       "    <tr>\n",
       "      <th>2</th>\n",
       "      <td>39.0</td>\n",
       "      <td>1</td>\n",
       "      <td>1</td>\n",
       "      <td>5.94</td>\n",
       "      <td>1</td>\n",
       "      <td>3.0</td>\n",
       "      <td>9.90</td>\n",
       "      <td>2</td>\n",
       "      <td>1</td>\n",
       "    </tr>\n",
       "    <tr>\n",
       "      <th>3</th>\n",
       "      <td>36.0</td>\n",
       "      <td>2</td>\n",
       "      <td>1</td>\n",
       "      <td>0.00</td>\n",
       "      <td>1</td>\n",
       "      <td>4.0</td>\n",
       "      <td>26.00</td>\n",
       "      <td>1</td>\n",
       "      <td>0</td>\n",
       "    </tr>\n",
       "    <tr>\n",
       "      <th>4</th>\n",
       "      <td>33.0</td>\n",
       "      <td>3</td>\n",
       "      <td>0</td>\n",
       "      <td>6.30</td>\n",
       "      <td>1</td>\n",
       "      <td>53.0</td>\n",
       "      <td>18.00</td>\n",
       "      <td>0</td>\n",
       "      <td>0</td>\n",
       "    </tr>\n",
       "  </tbody>\n",
       "</table>\n",
       "</div>"
      ],
      "text/plain": [
       "    Age  Agency_Code  Type  Commision  Channel  Duration  Sales  Product Name  \\\n",
       "0  48.0            0     0       0.70        1       7.0   2.51             2   \n",
       "1  36.0            2     1       0.00        1      34.0  20.00             2   \n",
       "2  39.0            1     1       5.94        1       3.0   9.90             2   \n",
       "3  36.0            2     1       0.00        1       4.0  26.00             1   \n",
       "4  33.0            3     0       6.30        1      53.0  18.00             0   \n",
       "\n",
       "   Destination  \n",
       "0            0  \n",
       "1            0  \n",
       "2            1  \n",
       "3            0  \n",
       "4            0  "
      ]
     },
     "execution_count": 66,
     "metadata": {},
     "output_type": "execute_result"
    }
   ],
   "source": [
    "X = df1.drop(\"Claimed\", axis=1)\n",
    "y = df1.pop(\"Claimed\")\n",
    "X.head()"
   ]
  },
  {
   "cell_type": "code",
   "execution_count": 67,
   "metadata": {},
   "outputs": [],
   "source": [
    "from sklearn.model_selection import train_test_split\n",
    "\n",
    "X_train, X_test, train_labels, test_labels = train_test_split(X, y, test_size=.30, random_state=0)"
   ]
  },
  {
   "cell_type": "markdown",
   "metadata": {},
   "source": [
    "<b>CART Model </b>"
   ]
  },
  {
   "cell_type": "code",
   "execution_count": 68,
   "metadata": {},
   "outputs": [],
   "source": [
    "from sklearn.tree import DecisionTreeClassifier\n",
    "dt_model = DecisionTreeClassifier(criterion = 'gini' )"
   ]
  },
  {
   "cell_type": "code",
   "execution_count": 69,
   "metadata": {},
   "outputs": [
    {
     "data": {
      "text/plain": [
       "DecisionTreeClassifier()"
      ]
     },
     "execution_count": 69,
     "metadata": {},
     "output_type": "execute_result"
    }
   ],
   "source": [
    "dt_model.fit(X_train, train_labels)"
   ]
  },
  {
   "cell_type": "code",
   "execution_count": 70,
   "metadata": {},
   "outputs": [],
   "source": [
    "from sklearn import tree\n",
    "\n",
    "train_char_label = ['No', 'Yes']\n",
    "Claim_Tree_File = open('d:\\claim_tree.dot','w')\n",
    "dot_data = tree.export_graphviz(dt_model, out_file=Claim_Tree_File, feature_names = list(X_train), class_names = list(train_char_label))\n",
    "\n",
    "Claim_Tree_File.close()"
   ]
  },
  {
   "cell_type": "code",
   "execution_count": 71,
   "metadata": {},
   "outputs": [
    {
     "name": "stdout",
     "output_type": "stream",
     "text": [
      "                   Imp\n",
      "Age           0.187435\n",
      "Agency_Code   0.146990\n",
      "Type          0.000000\n",
      "Commision     0.081556\n",
      "Channel       0.007261\n",
      "Duration      0.282267\n",
      "Sales         0.197142\n",
      "Product Name  0.065631\n",
      "Destination   0.031718\n"
     ]
    }
   ],
   "source": [
    "print (pd.DataFrame(dt_model.feature_importances_, columns = [\"Imp\"], index = X_train.columns))"
   ]
  },
  {
   "cell_type": "code",
   "execution_count": 72,
   "metadata": {},
   "outputs": [],
   "source": [
    "y_predict = dt_model.predict(X_test)"
   ]
  },
  {
   "cell_type": "code",
   "execution_count": 73,
   "metadata": {},
   "outputs": [
    {
     "data": {
      "text/plain": [
       "DecisionTreeClassifier(max_depth=8, min_samples_leaf=10, min_samples_split=30)"
      ]
     },
     "execution_count": 73,
     "metadata": {},
     "output_type": "execute_result"
    }
   ],
   "source": [
    "reg_dt_model = DecisionTreeClassifier(criterion = 'gini', max_depth = 8,min_samples_leaf=10,min_samples_split=30)\n",
    "reg_dt_model.fit(X_train, train_labels)"
   ]
  },
  {
   "cell_type": "code",
   "execution_count": 74,
   "metadata": {},
   "outputs": [],
   "source": [
    "train_char_label = ['No', 'Yes']\n",
    "Claim_Tree_File_Reg = open('d:\\claim_tree_reg.dot','w')\n",
    "dot_data = tree.export_graphviz(reg_dt_model, out_file=Claim_Tree_File_Reg, feature_names = list(X_train), class_names = list(train_char_label))\n",
    "\n",
    "Claim_Tree_File_Reg.close()"
   ]
  },
  {
   "cell_type": "code",
   "execution_count": 75,
   "metadata": {},
   "outputs": [],
   "source": [
    "ytrain_predict = reg_dt_model.predict(X_train)\n",
    "ytest_predict = reg_dt_model.predict(X_test)"
   ]
  },
  {
   "cell_type": "markdown",
   "metadata": {},
   "source": [
    "<b>Random Forest </b>"
   ]
  },
  {
   "cell_type": "code",
   "execution_count": 76,
   "metadata": {},
   "outputs": [
    {
     "data": {
      "text/plain": [
       "0    0.706688\n",
       "1    0.293312\n",
       "Name: Claimed, dtype: float64"
      ]
     },
     "execution_count": 76,
     "metadata": {},
     "output_type": "execute_result"
    }
   ],
   "source": [
    "train_labels.value_counts(normalize=True)"
   ]
  },
  {
   "cell_type": "code",
   "execution_count": 77,
   "metadata": {},
   "outputs": [
    {
     "data": {
      "text/plain": [
       "0    0.710429\n",
       "1    0.289571\n",
       "Name: Claimed, dtype: float64"
      ]
     },
     "execution_count": 77,
     "metadata": {},
     "output_type": "execute_result"
    }
   ],
   "source": [
    "test_labels.value_counts(normalize=True)"
   ]
  },
  {
   "cell_type": "code",
   "execution_count": 78,
   "metadata": {},
   "outputs": [],
   "source": [
    "from sklearn.ensemble import RandomForestClassifier"
   ]
  },
  {
   "cell_type": "code",
   "execution_count": 79,
   "metadata": {},
   "outputs": [],
   "source": [
    "rfcl = RandomForestClassifier(n_estimators = 100,max_features=5,random_state=0)\n",
    "rfcl = rfcl.fit(X_train, train_labels)"
   ]
  },
  {
   "cell_type": "code",
   "execution_count": 80,
   "metadata": {},
   "outputs": [
    {
     "data": {
      "text/plain": [
       "RandomForestClassifier(max_features=5, random_state=0)"
      ]
     },
     "execution_count": 80,
     "metadata": {},
     "output_type": "execute_result"
    }
   ],
   "source": [
    "rfcl"
   ]
  },
  {
   "cell_type": "code",
   "execution_count": 81,
   "metadata": {},
   "outputs": [],
   "source": [
    "ytrain_predict1 = rfcl.predict(X_train)\n",
    "ytest_predict1 = rfcl.predict(X_test)"
   ]
  },
  {
   "cell_type": "markdown",
   "metadata": {},
   "source": [
    "<b>Random Forest Grid search </b>"
   ]
  },
  {
   "cell_type": "code",
   "execution_count": 82,
   "metadata": {},
   "outputs": [],
   "source": [
    "from sklearn.model_selection import GridSearchCV\n",
    "\n",
    "param_grid = {\n",
    "    'max_depth': [7,10],\n",
    "    'max_features': [4,5,6],\n",
    "    'min_samples_leaf': [5,10,20],\n",
    "    'min_samples_split': [50,100],\n",
    "    'n_estimators': [100,200,300]\n",
    "}\n",
    "\n",
    "rfcl1 = RandomForestClassifier(random_state=0)\n",
    "\n",
    "grid_search = GridSearchCV(estimator = rfcl1, param_grid = param_grid, cv = 10)"
   ]
  },
  {
   "cell_type": "code",
   "execution_count": 83,
   "metadata": {},
   "outputs": [
    {
     "data": {
      "text/plain": [
       "GridSearchCV(cv=10, estimator=RandomForestClassifier(random_state=0),\n",
       "             param_grid={'max_depth': [7, 10], 'max_features': [4, 5, 6],\n",
       "                         'min_samples_leaf': [5, 10, 20],\n",
       "                         'min_samples_split': [50, 100],\n",
       "                         'n_estimators': [100, 200, 300]})"
      ]
     },
     "execution_count": 83,
     "metadata": {},
     "output_type": "execute_result"
    }
   ],
   "source": [
    "grid_search.fit(X_train, train_labels)"
   ]
  },
  {
   "cell_type": "code",
   "execution_count": 84,
   "metadata": {},
   "outputs": [
    {
     "data": {
      "text/plain": [
       "{'max_depth': 7,\n",
       " 'max_features': 4,\n",
       " 'min_samples_leaf': 10,\n",
       " 'min_samples_split': 50,\n",
       " 'n_estimators': 300}"
      ]
     },
     "execution_count": 84,
     "metadata": {},
     "output_type": "execute_result"
    }
   ],
   "source": [
    "grid_search.best_params_"
   ]
  },
  {
   "cell_type": "code",
   "execution_count": 85,
   "metadata": {},
   "outputs": [],
   "source": [
    "best_grid = grid_search.best_estimator_"
   ]
  },
  {
   "cell_type": "code",
   "execution_count": 86,
   "metadata": {},
   "outputs": [
    {
     "data": {
      "text/plain": [
       "array([0.07521622, 0.30070783, 0.03158621, 0.11278766, 0.00179608,\n",
       "       0.08238316, 0.18073254, 0.20219285, 0.01259745])"
      ]
     },
     "execution_count": 86,
     "metadata": {},
     "output_type": "execute_result"
    }
   ],
   "source": [
    "best_grid.feature_importances_"
   ]
  },
  {
   "cell_type": "code",
   "execution_count": 87,
   "metadata": {},
   "outputs": [
    {
     "data": {
      "text/plain": [
       "RandomForestClassifier(max_depth=7, max_features=4, min_samples_leaf=10,\n",
       "                       min_samples_split=50, n_estimators=300, random_state=0)"
      ]
     },
     "execution_count": 87,
     "metadata": {},
     "output_type": "execute_result"
    }
   ],
   "source": [
    "best_grid"
   ]
  },
  {
   "cell_type": "code",
   "execution_count": 88,
   "metadata": {},
   "outputs": [],
   "source": [
    "ytrain_predict2 = best_grid.predict(X_train)\n",
    "ytest_predict2 = best_grid.predict(X_test)"
   ]
  },
  {
   "cell_type": "markdown",
   "metadata": {},
   "source": [
    "<b>ANN</b>"
   ]
  },
  {
   "cell_type": "code",
   "execution_count": 89,
   "metadata": {},
   "outputs": [],
   "source": [
    "from sklearn.preprocessing import StandardScaler"
   ]
  },
  {
   "cell_type": "code",
   "execution_count": 90,
   "metadata": {},
   "outputs": [],
   "source": [
    "x_train, x_test, y_train, y_test = train_test_split(X,y, test_size= 0.30, random_state=1)"
   ]
  },
  {
   "cell_type": "code",
   "execution_count": 91,
   "metadata": {},
   "outputs": [],
   "source": [
    "sc = StandardScaler()"
   ]
  },
  {
   "cell_type": "code",
   "execution_count": 92,
   "metadata": {},
   "outputs": [],
   "source": [
    "x_train = sc.fit_transform(x_train)"
   ]
  },
  {
   "cell_type": "code",
   "execution_count": 93,
   "metadata": {},
   "outputs": [
    {
     "data": {
      "text/plain": [
       "array([[-0.69019062, -0.35287878,  0.78759581, ..., -1.20903051,\n",
       "         0.39358243, -0.45606605],\n",
       "       [ 1.14745258, -0.35287878,  0.78759581, ...,  0.06524249,\n",
       "         1.22496512, -0.45606605],\n",
       "       [ 1.14745258, -1.35604765, -1.26968679, ..., -1.18978639,\n",
       "         0.39358243, -0.45606605],\n",
       "       ...,\n",
       "       [-0.14970733,  0.65029009,  0.78759581, ...,  0.24728149,\n",
       "         0.39358243, -0.45606605],\n",
       "       [ 0.06648599,  0.65029009,  0.78759581, ...,  0.29929263,\n",
       "        -0.43780026,  1.22889394],\n",
       "       [-0.14970733,  0.65029009,  0.78759581, ...,  2.49676341,\n",
       "         0.39358243, -0.45606605]])"
      ]
     },
     "execution_count": 93,
     "metadata": {},
     "output_type": "execute_result"
    }
   ],
   "source": [
    "x_train"
   ]
  },
  {
   "cell_type": "code",
   "execution_count": 94,
   "metadata": {},
   "outputs": [],
   "source": [
    "x_test = sc.transform(x_test)"
   ]
  },
  {
   "cell_type": "code",
   "execution_count": 95,
   "metadata": {},
   "outputs": [
    {
     "data": {
      "text/plain": [
       "array([[-1.77115721,  0.65029009,  0.78759581, ...,  0.11725363,\n",
       "         0.39358243, -0.45606605],\n",
       "       [-0.14970733,  0.65029009,  0.78759581, ..., -0.68891908,\n",
       "         0.39358243, -0.45606605],\n",
       "       [ 0.17458265,  0.65029009,  0.78759581, ..., -0.68891908,\n",
       "         0.39358243, -0.45606605],\n",
       "       ...,\n",
       "       [-0.69019062, -1.35604765, -1.26968679, ..., -0.68891908,\n",
       "        -1.26918295, -0.45606605],\n",
       "       [-1.0144806 ,  0.65029009,  0.78759581, ..., -0.42886337,\n",
       "        -0.43780026, -0.45606605],\n",
       "       [ 0.49887263, -1.35604765, -1.26968679, ...,  0.07824527,\n",
       "         2.05634781, -0.45606605]])"
      ]
     },
     "execution_count": 95,
     "metadata": {},
     "output_type": "execute_result"
    }
   ],
   "source": [
    "x_test"
   ]
  },
  {
   "cell_type": "code",
   "execution_count": 96,
   "metadata": {},
   "outputs": [],
   "source": [
    "from sklearn.neural_network import MLPClassifier"
   ]
  },
  {
   "cell_type": "code",
   "execution_count": 98,
   "metadata": {},
   "outputs": [],
   "source": [
    "from sklearn.model_selection import GridSearchCV\n",
    "\n",
    "param_grid = {\n",
    "    'hidden_layer_sizes': [100,200,300,500],\n",
    "    'max_iter': [5000,2500,7000,6000],\n",
    "    'solver': ['sgd','adam'],\n",
    "    'tol': [0.01,0.001],\n",
    "}\n",
    "\n",
    "nncl = MLPClassifier(random_state=1)\n",
    "\n",
    "grid_search1 = GridSearchCV(estimator = nncl, param_grid = param_grid, cv = 10)"
   ]
  },
  {
   "cell_type": "code",
   "execution_count": 99,
   "metadata": {},
   "outputs": [
    {
     "data": {
      "text/plain": [
       "GridSearchCV(cv=10, estimator=MLPClassifier(random_state=1),\n",
       "             param_grid={'hidden_layer_sizes': [100, 200, 300, 500],\n",
       "                         'max_iter': [5000, 2500, 7000, 6000],\n",
       "                         'solver': ['sgd', 'adam'], 'tol': [0.01, 0.001]})"
      ]
     },
     "execution_count": 99,
     "metadata": {},
     "output_type": "execute_result"
    }
   ],
   "source": [
    "grid_search1.fit(x_train, y_train)"
   ]
  },
  {
   "cell_type": "code",
   "execution_count": 100,
   "metadata": {},
   "outputs": [
    {
     "data": {
      "text/plain": [
       "{'hidden_layer_sizes': 300, 'max_iter': 5000, 'solver': 'adam', 'tol': 0.01}"
      ]
     },
     "execution_count": 100,
     "metadata": {},
     "output_type": "execute_result"
    }
   ],
   "source": [
    "grid_search1.best_params_"
   ]
  },
  {
   "cell_type": "code",
   "execution_count": 101,
   "metadata": {},
   "outputs": [],
   "source": [
    "best_grid1 = grid_search1.best_estimator_"
   ]
  },
  {
   "cell_type": "code",
   "execution_count": 102,
   "metadata": {},
   "outputs": [
    {
     "data": {
      "text/plain": [
       "MLPClassifier(hidden_layer_sizes=300, max_iter=5000, random_state=1, tol=0.01)"
      ]
     },
     "execution_count": 102,
     "metadata": {},
     "output_type": "execute_result"
    }
   ],
   "source": [
    "best_grid1"
   ]
  },
  {
   "cell_type": "code",
   "execution_count": 103,
   "metadata": {},
   "outputs": [],
   "source": [
    "ytrain_predict3 = best_grid1.predict(x_train)\n",
    "ytest_predict3 = best_grid1.predict(x_test)"
   ]
  },
  {
   "cell_type": "markdown",
   "metadata": {},
   "source": [
    "<b> 2.3 Performance Metrics: Check the performance of Predictions on Train and Test sets using Accuracy, Confusion Matrix, Plot ROC curve and get ROC_AUC score for each model</b>"
   ]
  },
  {
   "cell_type": "code",
   "execution_count": 104,
   "metadata": {},
   "outputs": [],
   "source": [
    "from sklearn.metrics import classification_report,confusion_matrix"
   ]
  },
  {
   "cell_type": "markdown",
   "metadata": {},
   "source": [
    "<b>1. CART :</b>"
   ]
  },
  {
   "cell_type": "code",
   "execution_count": 105,
   "metadata": {},
   "outputs": [
    {
     "name": "stdout",
     "output_type": "stream",
     "text": [
      "AUC: 0.847\n"
     ]
    },
    {
     "data": {
      "image/png": "[encoded data removed]",
      "text/plain": [
       "<Figure size 432x288 with 1 Axes>"
      ]
     },
     "metadata": {
      "needs_background": "light"
     },
     "output_type": "display_data"
    }
   ],
   "source": [
    "# AUC and ROC for the training data\n",
    "\n",
    "# predict probabilities\n",
    "probs = reg_dt_model.predict_proba(X_train)\n",
    "# keep probabilities for the positive outcome only\n",
    "probs = probs[:, 1]\n",
    "# calculate AUC\n",
    "from sklearn.metrics import roc_auc_score\n",
    "auc = roc_auc_score(train_labels, probs)\n",
    "print('AUC: %.3f' % auc)\n",
    "# calculate roc curve\n",
    "from sklearn.metrics import roc_curve\n",
    "fpr, tpr, thresholds = roc_curve(train_labels, probs)\n",
    "plt.plot([0, 1], [0, 1], linestyle='--')\n",
    "# plot the roc curve for the model\n",
    "plt.plot(fpr, tpr, marker='.')\n",
    "# show the plot\n",
    "plt.show()"
   ]
  },
  {
   "cell_type": "code",
   "execution_count": 106,
   "metadata": {},
   "outputs": [
    {
     "name": "stdout",
     "output_type": "stream",
     "text": [
      "AUC: 0.750\n"
     ]
    },
    {
     "data": {
      "image/png": "[encoded data removed]",
      "text/plain": [
       "<Figure size 432x288 with 1 Axes>"
      ]
     },
     "metadata": {
      "needs_background": "light"
     },
     "output_type": "display_data"
    }
   ],
   "source": [
    "# AUC and ROC for the test data\n",
    "\n",
    "\n",
    "# predict probabilities\n",
    "probs = reg_dt_model.predict_proba(X_test)\n",
    "# keep probabilities for the positive outcome only\n",
    "probs = probs[:, 1]\n",
    "# calculate AUC\n",
    "from sklearn.metrics import roc_auc_score\n",
    "auc = roc_auc_score(test_labels, probs)\n",
    "print('AUC: %.3f' % auc)\n",
    "# calculate roc curve\n",
    "from sklearn.metrics import roc_curve\n",
    "fpr, tpr, thresholds = roc_curve(test_labels, probs)\n",
    "plt.plot([0, 1], [0, 1], linestyle='--')\n",
    "# plot the roc curve for the model\n",
    "plt.plot(fpr, tpr, marker='.')\n",
    "# show the plot\n",
    "plt.show()"
   ]
  },
  {
   "cell_type": "code",
   "execution_count": 107,
   "metadata": {},
   "outputs": [
    {
     "name": "stdout",
     "output_type": "stream",
     "text": [
      "              precision    recall  f1-score   support\n",
      "\n",
      "           0       0.84      0.90      0.87      1342\n",
      "           1       0.71      0.58      0.64       557\n",
      "\n",
      "    accuracy                           0.81      1899\n",
      "   macro avg       0.77      0.74      0.75      1899\n",
      "weighted avg       0.80      0.81      0.80      1899\n",
      "\n"
     ]
    }
   ],
   "source": [
    "print(classification_report(train_labels, ytrain_predict))"
   ]
  },
  {
   "cell_type": "code",
   "execution_count": 108,
   "metadata": {},
   "outputs": [
    {
     "name": "stdout",
     "output_type": "stream",
     "text": [
      "              precision    recall  f1-score   support\n",
      "\n",
      "           0       0.80      0.84      0.82       579\n",
      "           1       0.56      0.50      0.53       236\n",
      "\n",
      "    accuracy                           0.74       815\n",
      "   macro avg       0.68      0.67      0.68       815\n",
      "weighted avg       0.73      0.74      0.74       815\n",
      "\n"
     ]
    }
   ],
   "source": [
    "print(classification_report(test_labels, ytest_predict))"
   ]
  },
  {
   "cell_type": "code",
   "execution_count": 109,
   "metadata": {},
   "outputs": [
    {
     "data": {
      "text/plain": [
       "array([[1212,  130],\n",
       "       [ 235,  322]], dtype=int64)"
      ]
     },
     "execution_count": 109,
     "metadata": {},
     "output_type": "execute_result"
    }
   ],
   "source": [
    "confusion_matrix(train_labels, ytrain_predict)"
   ]
  },
  {
   "cell_type": "code",
   "execution_count": 110,
   "metadata": {},
   "outputs": [
    {
     "data": {
      "text/plain": [
       "array([[487,  92],\n",
       "       [118, 118]], dtype=int64)"
      ]
     },
     "execution_count": 110,
     "metadata": {},
     "output_type": "execute_result"
    }
   ],
   "source": [
    "confusion_matrix(test_labels, ytest_predict)"
   ]
  },
  {
   "cell_type": "code",
   "execution_count": 111,
   "metadata": {},
   "outputs": [
    {
     "data": {
      "text/plain": [
       "0.8077935755660874"
      ]
     },
     "execution_count": 111,
     "metadata": {},
     "output_type": "execute_result"
    }
   ],
   "source": [
    "reg_dt_model.score(X_train,train_labels)"
   ]
  },
  {
   "cell_type": "code",
   "execution_count": 112,
   "metadata": {},
   "outputs": [
    {
     "data": {
      "text/plain": [
       "0.7423312883435583"
      ]
     },
     "execution_count": 112,
     "metadata": {},
     "output_type": "execute_result"
    }
   ],
   "source": [
    "reg_dt_model.score(X_test,test_labels)"
   ]
  },
  {
   "cell_type": "markdown",
   "metadata": {},
   "source": [
    "<b>2. Random Forest :</b><br>\n",
    "</br>\n",
    "<b>a. Without best grid search</b>"
   ]
  },
  {
   "cell_type": "code",
   "execution_count": 113,
   "metadata": {},
   "outputs": [
    {
     "data": {
      "text/plain": [
       "0.990521327014218"
      ]
     },
     "execution_count": 113,
     "metadata": {},
     "output_type": "execute_result"
    }
   ],
   "source": [
    "rfcl.score(X_train,train_labels)"
   ]
  },
  {
   "cell_type": "code",
   "execution_count": 114,
   "metadata": {},
   "outputs": [
    {
     "data": {
      "image/png": "[encoded data removed]",
      "text/plain": [
       "<Figure size 432x288 with 1 Axes>"
      ]
     },
     "metadata": {
      "needs_background": "light"
     },
     "output_type": "display_data"
    }
   ],
   "source": [
    "confusion_matrix(train_labels,ytrain_predict1)\n",
    "sns.heatmap(confusion_matrix(train_labels,ytrain_predict1),annot=True, fmt='d',cbar=False, cmap='rainbow')\n",
    "plt.xlabel('Predicted Label')\n",
    "plt.ylabel('Actual Label')\n",
    "plt.title('Confusion Matrix')\n",
    "plt.show()"
   ]
  },
  {
   "cell_type": "code",
   "execution_count": 115,
   "metadata": {},
   "outputs": [
    {
     "data": {
      "text/plain": [
       "0.7349693251533742"
      ]
     },
     "execution_count": 115,
     "metadata": {},
     "output_type": "execute_result"
    }
   ],
   "source": [
    "rfcl.score(X_test,test_labels)"
   ]
  },
  {
   "cell_type": "code",
   "execution_count": 116,
   "metadata": {},
   "outputs": [
    {
     "data": {
      "image/png": "[encoded data removed]",
      "text/plain": [
       "<Figure size 864x504 with 1 Axes>"
      ]
     },
     "metadata": {
      "needs_background": "light"
     },
     "output_type": "display_data"
    },
    {
     "name": "stdout",
     "output_type": "stream",
     "text": [
      "Area under Curve is 0.9997270881104062\n"
     ]
    }
   ],
   "source": [
    "rf_fpr, rf_tpr,_=roc_curve(train_labels,rfcl.predict_proba(X_train)[:,1])\n",
    "plt.figure(figsize=(12,7))\n",
    "plt.plot(rf_fpr,rf_tpr, marker='x', label='Random Forest')\n",
    "plt.plot(np.arange(0,1.1,0.1),np.arange(0,1.1,0.1))\n",
    "plt.xlabel('False Positive Rate')\n",
    "plt.ylabel('True Positive Rate')\n",
    "plt.title('ROC')\n",
    "plt.show()\n",
    "print('Area under Curve is', roc_auc_score(train_labels,rfcl.predict_proba(X_train)[:,1]))"
   ]
  },
  {
   "cell_type": "code",
   "execution_count": 117,
   "metadata": {},
   "outputs": [
    {
     "data": {
      "image/png": "[encoded data removed]",
      "text/plain": [
       "<Figure size 432x288 with 1 Axes>"
      ]
     },
     "metadata": {
      "needs_background": "light"
     },
     "output_type": "display_data"
    }
   ],
   "source": [
    "confusion_matrix(test_labels,ytest_predict1)\n",
    "sns.heatmap(confusion_matrix(test_labels,ytest_predict1),annot=True, fmt='d',cbar=False, cmap='rainbow')\n",
    "plt.xlabel('Predicted Label')\n",
    "plt.ylabel('Actual Label')\n",
    "plt.title('Confusion Matrix')\n",
    "plt.show()"
   ]
  },
  {
   "cell_type": "code",
   "execution_count": 118,
   "metadata": {},
   "outputs": [
    {
     "name": "stdout",
     "output_type": "stream",
     "text": [
      "              precision    recall  f1-score   support\n",
      "\n",
      "           0       0.80      0.83      0.82       579\n",
      "           1       0.55      0.49      0.52       236\n",
      "\n",
      "    accuracy                           0.73       815\n",
      "   macro avg       0.67      0.66      0.67       815\n",
      "weighted avg       0.73      0.73      0.73       815\n",
      "\n"
     ]
    }
   ],
   "source": [
    "print(classification_report(test_labels,ytest_predict1))"
   ]
  },
  {
   "cell_type": "code",
   "execution_count": 119,
   "metadata": {},
   "outputs": [
    {
     "data": {
      "image/png": "[encoded data removed]",
      "text/plain": [
       "<Figure size 864x504 with 1 Axes>"
      ]
     },
     "metadata": {
      "needs_background": "light"
     },
     "output_type": "display_data"
    },
    {
     "name": "stdout",
     "output_type": "stream",
     "text": [
      "Area under Curve is 0.7335045812476215\n"
     ]
    }
   ],
   "source": [
    "rf_fpr, rf_tpr,_=roc_curve(test_labels,rfcl.predict_proba(X_test)[:,1])\n",
    "plt.figure(figsize=(12,7))\n",
    "plt.plot(rf_fpr,rf_tpr, marker='x', label='Random Forest')\n",
    "plt.plot(np.arange(0,1.1,0.1),np.arange(0,1.1,0.1))\n",
    "plt.xlabel('False Positive Rate')\n",
    "plt.ylabel('True Positive Rate')\n",
    "plt.title('ROC')\n",
    "plt.show()\n",
    "print('Area under Curve is', roc_auc_score(test_labels,rfcl.predict_proba(X_test)[:,1]))"
   ]
  },
  {
   "cell_type": "markdown",
   "metadata": {},
   "source": [
    "<b>b.With best grid search</b>"
   ]
  },
  {
   "cell_type": "code",
   "execution_count": 120,
   "metadata": {},
   "outputs": [
    {
     "data": {
      "text/plain": [
       "array([[1211,  131],\n",
       "       [ 257,  300]], dtype=int64)"
      ]
     },
     "execution_count": 120,
     "metadata": {},
     "output_type": "execute_result"
    }
   ],
   "source": [
    "confusion_matrix(train_labels,ytrain_predict2)"
   ]
  },
  {
   "cell_type": "code",
   "execution_count": 121,
   "metadata": {},
   "outputs": [
    {
     "name": "stdout",
     "output_type": "stream",
     "text": [
      "              precision    recall  f1-score   support\n",
      "\n",
      "           0       0.82      0.90      0.86      1342\n",
      "           1       0.70      0.54      0.61       557\n",
      "\n",
      "    accuracy                           0.80      1899\n",
      "   macro avg       0.76      0.72      0.73      1899\n",
      "weighted avg       0.79      0.80      0.79      1899\n",
      "\n"
     ]
    }
   ],
   "source": [
    "print(classification_report(train_labels,ytrain_predict2))"
   ]
  },
  {
   "cell_type": "code",
   "execution_count": 122,
   "metadata": {},
   "outputs": [
    {
     "data": {
      "image/png": "[encoded data removed]",
      "text/plain": [
       "<Figure size 864x504 with 1 Axes>"
      ]
     },
     "metadata": {
      "needs_background": "light"
     },
     "output_type": "display_data"
    },
    {
     "name": "stdout",
     "output_type": "stream",
     "text": [
      "Area under Curve is 0.8443124627087308\n"
     ]
    }
   ],
   "source": [
    "rf_fpr, rf_tpr,_=roc_curve(train_labels,best_grid.predict_proba(X_train)[:,1])\n",
    "plt.figure(figsize=(12,7))\n",
    "plt.plot(rf_fpr,rf_tpr, marker='x', label='Random Forest')\n",
    "plt.plot(np.arange(0,1.1,0.1),np.arange(0,1.1,0.1))\n",
    "plt.xlabel('False Positive Rate')\n",
    "plt.ylabel('True Positive Rate')\n",
    "plt.title('ROC')\n",
    "plt.show()\n",
    "print('Area under Curve is', roc_auc_score(train_labels,best_grid.predict_proba(X_train)[:,1]))"
   ]
  },
  {
   "cell_type": "code",
   "execution_count": 123,
   "metadata": {},
   "outputs": [
    {
     "data": {
      "text/plain": [
       "array([[503,  76],\n",
       "       [118, 118]], dtype=int64)"
      ]
     },
     "execution_count": 123,
     "metadata": {},
     "output_type": "execute_result"
    }
   ],
   "source": [
    "confusion_matrix(test_labels,ytest_predict2)\n"
   ]
  },
  {
   "cell_type": "code",
   "execution_count": 124,
   "metadata": {},
   "outputs": [
    {
     "name": "stdout",
     "output_type": "stream",
     "text": [
      "              precision    recall  f1-score   support\n",
      "\n",
      "           0       0.81      0.87      0.84       579\n",
      "           1       0.61      0.50      0.55       236\n",
      "\n",
      "    accuracy                           0.76       815\n",
      "   macro avg       0.71      0.68      0.69       815\n",
      "weighted avg       0.75      0.76      0.75       815\n",
      "\n"
     ]
    }
   ],
   "source": [
    "print(classification_report(test_labels,ytest_predict2))"
   ]
  },
  {
   "cell_type": "code",
   "execution_count": 125,
   "metadata": {},
   "outputs": [
    {
     "data": {
      "image/png": "[encoded data removed]",
      "text/plain": [
       "<Figure size 864x504 with 1 Axes>"
      ]
     },
     "metadata": {
      "needs_background": "light"
     },
     "output_type": "display_data"
    },
    {
     "name": "stdout",
     "output_type": "stream",
     "text": [
      "Area under Curve is 0.7763458329674191\n"
     ]
    }
   ],
   "source": [
    "rf_fpr, rf_tpr,_=roc_curve(test_labels,best_grid.predict_proba(X_test)[:,1])\n",
    "plt.figure(figsize=(12,7))\n",
    "plt.plot(rf_fpr,rf_tpr, marker='x', label='Random Forest')\n",
    "plt.plot(np.arange(0,1.1,0.1),np.arange(0,1.1,0.1))\n",
    "plt.xlabel('False Positive Rate')\n",
    "plt.ylabel('True Positive Rate')\n",
    "plt.title('ROC')\n",
    "plt.show()\n",
    "print('Area under Curve is', roc_auc_score(test_labels,best_grid.predict_proba(X_test)[:,1]))"
   ]
  },
  {
   "cell_type": "markdown",
   "metadata": {},
   "source": [
    "<b>3.ANN</b>"
   ]
  },
  {
   "cell_type": "code",
   "execution_count": 126,
   "metadata": {},
   "outputs": [
    {
     "data": {
      "text/plain": [
       "array([[1201,  151],\n",
       "       [ 290,  257]], dtype=int64)"
      ]
     },
     "execution_count": 126,
     "metadata": {},
     "output_type": "execute_result"
    }
   ],
   "source": [
    "confusion_matrix(y_train,ytrain_predict3)"
   ]
  },
  {
   "cell_type": "code",
   "execution_count": 127,
   "metadata": {},
   "outputs": [
    {
     "data": {
      "text/plain": [
       "array([[507,  62],\n",
       "       [136, 110]], dtype=int64)"
      ]
     },
     "execution_count": 127,
     "metadata": {},
     "output_type": "execute_result"
    }
   ],
   "source": [
    "cm = confusion_matrix(y_test, ytest_predict3)\n",
    "cm"
   ]
  },
  {
   "cell_type": "code",
   "execution_count": 128,
   "metadata": {},
   "outputs": [
    {
     "name": "stdout",
     "output_type": "stream",
     "text": [
      "              precision    recall  f1-score   support\n",
      "\n",
      "           0       0.79      0.89      0.84       569\n",
      "           1       0.64      0.45      0.53       246\n",
      "\n",
      "    accuracy                           0.76       815\n",
      "   macro avg       0.71      0.67      0.68       815\n",
      "weighted avg       0.74      0.76      0.74       815\n",
      "\n"
     ]
    }
   ],
   "source": [
    "print(classification_report(y_test, ytest_predict3))"
   ]
  },
  {
   "cell_type": "code",
   "execution_count": 129,
   "metadata": {},
   "outputs": [
    {
     "name": "stdout",
     "output_type": "stream",
     "text": [
      "              precision    recall  f1-score   support\n",
      "\n",
      "           0       0.81      0.89      0.84      1352\n",
      "           1       0.63      0.47      0.54       547\n",
      "\n",
      "    accuracy                           0.77      1899\n",
      "   macro avg       0.72      0.68      0.69      1899\n",
      "weighted avg       0.75      0.77      0.76      1899\n",
      "\n"
     ]
    }
   ],
   "source": [
    "print(classification_report(y_train, ytrain_predict3))"
   ]
  },
  {
   "cell_type": "code",
   "execution_count": 130,
   "metadata": {},
   "outputs": [
    {
     "data": {
      "image/png": "[encoded data removed]",
      "text/plain": [
       "<Figure size 432x288 with 1 Axes>"
      ]
     },
     "metadata": {
      "needs_background": "light"
     },
     "output_type": "display_data"
    },
    {
     "name": "stdout",
     "output_type": "stream",
     "text": [
      "Area under Curve is 0.7901774607055158\n"
     ]
    }
   ],
   "source": [
    "#from sklearn.metrics import roc_curve,roc_auc_score\n",
    "rf_fpr, rf_tpr,_=roc_curve(y_train,best_grid1.predict_proba(x_train)[:,1])\n",
    "plt.plot(rf_fpr,rf_tpr, marker='x', label='NN')\n",
    "plt.plot(np.arange(0,1.1,0.1),np.arange(0,1.1,0.1))\n",
    "plt.xlabel('False Positive Rate')\n",
    "plt.ylabel('True Positive Rate')\n",
    "plt.title('ROC')\n",
    "plt.show()\n",
    "print('Area under Curve is', roc_auc_score(y_train,best_grid1.predict_proba(x_train)[:,1]))"
   ]
  },
  {
   "cell_type": "code",
   "execution_count": 131,
   "metadata": {},
   "outputs": [
    {
     "data": {
      "image/png": "[encoded data removed]",
      "text/plain": [
       "<Figure size 432x288 with 1 Axes>"
      ]
     },
     "metadata": {
      "needs_background": "light"
     },
     "output_type": "display_data"
    },
    {
     "name": "stdout",
     "output_type": "stream",
     "text": [
      "Area under Curve is 0.7819416463057427\n"
     ]
    }
   ],
   "source": [
    "#from sklearn.metrics import roc_curve,roc_auc_score\n",
    "rf_fpr, rf_tpr,_=roc_curve(y_test,best_grid1.predict_proba(x_test)[:,1])\n",
    "plt.plot(rf_fpr,rf_tpr, marker='x', label='NN')\n",
    "plt.plot(np.arange(0,1.1,0.1),np.arange(0,1.1,0.1))\n",
    "plt.xlabel('False Positive Rate')\n",
    "plt.ylabel('True Positive Rate')\n",
    "plt.title('ROC')\n",
    "plt.show()\n",
    "print('Area under Curve is', roc_auc_score(y_test,best_grid1.predict_proba(x_test)[:,1]))"
   ]
  },
  {
   "cell_type": "markdown",
   "metadata": {},
   "source": []
  }
 ],
 "metadata": {
  "kernelspec": {
   "display_name": "Python 3",
   "language": "python",
   "name": "python3"
  },
  "language_info": {
   "codemirror_mode": {
    "name": "ipython",
    "version": 3
   },
   "file_extension": ".py",
   "mimetype": "text/x-python",
   "name": "python",
   "nbconvert_exporter": "python",
   "pygments_lexer": "ipython3",
   "version": "3.8.3"
  }
 },
 "nbformat": 4,
 "nbformat_minor": 4
}
